{
 "cells": [
  {
   "cell_type": "markdown",
   "id": "nuclear-concert",
   "metadata": {},
   "source": [
    "# Лабораторная работа №3"
   ]
  },
  {
   "cell_type": "markdown",
   "id": "judicial-adoption",
   "metadata": {},
   "source": [
    "# Двойственный симплекс метод"
   ]
  },
  {
   "cell_type": "markdown",
   "id": "racial-valuation",
   "metadata": {},
   "source": [
    "### Выполнил: Яковлев Артур, гр. 853501"
   ]
  },
  {
   "cell_type": "markdown",
   "id": "antique-struggle",
   "metadata": {},
   "source": [
    "### Проверила: Костюкова О.И."
   ]
  },
  {
   "cell_type": "markdown",
   "id": "iraqi-nevada",
   "metadata": {},
   "source": [
    "#### Вариант 28"
   ]
  },
  {
   "cell_type": "markdown",
   "id": "excellent-cologne",
   "metadata": {},
   "source": [
    "Импортируем все необходимые модули"
   ]
  },
  {
   "cell_type": "code",
   "execution_count": 143,
   "id": "organic-upgrade",
   "metadata": {},
   "outputs": [],
   "source": [
    "import numpy as np\n",
    "import scipy.linalg as sla"
   ]
  },
  {
   "cell_type": "markdown",
   "id": "backed-volunteer",
   "metadata": {},
   "source": [
    "Исходные данные для тестового примера:"
   ]
  },
  {
   "cell_type": "code",
   "execution_count": 98,
   "id": "happy-samba",
   "metadata": {},
   "outputs": [],
   "source": [
    "test_dataset = {\n",
    "    'A': np.array([[2., -3.,  4., 0., 2.,  0., -2., 7.],\n",
    "                   [0.,  2., -2., 2., 1., -1.,  4., 3.],\n",
    "                   [0.,  4.,  1., 1., 3.,  5.,  1., 2.]]),\n",
    "    'b': np.array([0., 4., 18.]),\n",
    "    'c': np.array([-2., 15., -11., 8., 3., -2., 13., 7.]),\n",
    "    'y': np.array([-1., 4., 1.]),\n",
    "    'jb': [0, 1, 2],\n",
    "}"
   ]
  },
  {
   "cell_type": "markdown",
   "id": "quiet-anthony",
   "metadata": {},
   "source": [
    "Реализуем итерацию нашего алгоритма. Данная функция принимает в себя все исходные данные, обратную матрицу $B$ и вектор $\\delta$. Итерация состоит из 9 шагов, каждый из которых приведен в коде ниже."
   ]
  },
  {
   "cell_type": "code",
   "execution_count": 144,
   "id": "isolated-offset",
   "metadata": {},
   "outputs": [],
   "source": [
    "def iteration(dataset, B, delta):  # B is a np.array, delta is Dict[int, float]\n",
    "    #Step 1\n",
    "    x_b = B.dot(dataset['b'])\n",
    "    print(f'Current plan: {x_b}')\n",
    "    #Step 2\n",
    "    if np.all(x_b > -1e-9):\n",
    "        return None, x_b\n",
    "    #Step 3\n",
    "    k = np.argmin(x_b)\n",
    "    print(f'k: {k}')\n",
    "    jn = [i for i in range(dataset['A'].shape[1]) if i not in dataset['jb']]\n",
    "    print(f'jn: {jn}')\n",
    "    mu = {j: B[k, :].dot(dataset['A'][:, j]) for j in jn}\n",
    "    print(f'mu: {mu}')\n",
    "    #Step 4\n",
    "    sigma = {j: -delta[j] / mu[j] if mu[j] < 1e-9 else np.inf for j in jn}\n",
    "    print(f'sigma: {sigma}')\n",
    "    #Step 5, 6\n",
    "    sigma0 = min(sigma, key=sigma.get)\n",
    "    if sigma[sigma0] == np.inf:\n",
    "        return None, None\n",
    "    #Step 7\n",
    "    idx = dataset['jb'][k]\n",
    "    del dataset['jb'][k]\n",
    "    dataset['jb'].append(sigma0)\n",
    "    dataset['jb'].sort()\n",
    "    print(f'New jb: {dataset[\"jb\"]}')\n",
    "    #Step 8\n",
    "    delta.pop(sigma0)\n",
    "    for key in delta:\n",
    "        delta[key] += sigma[sigma0] * mu[key]\n",
    "    delta[idx] = sigma[sigma0]\n",
    "    print(f'New delta: {delta}')\n",
    "    #Step 9\n",
    "    B = sla.inv(dataset['A'][:, dataset['jb']])\n",
    "    return B, delta"
   ]
  },
  {
   "cell_type": "markdown",
   "id": "further-contamination",
   "metadata": {},
   "source": [
    "Далее реализуем сам алгоритм решения. Функция принимает в себя набор исходных данных, состоящих из матрицы $A$, векторов $b$, $c$, $y$ и массива индексов $J_b$, а также максимальное число итераций алгоритма (по умолчанию 20). В основном цикле программы с помощью функции итерации обновляются матрица $B$ и вектор $\\delta$ и осуществляется вывод оптимального решения в случае, если оно было получено."
   ]
  },
  {
   "cell_type": "code",
   "execution_count": 156,
   "id": "continent-symbol",
   "metadata": {},
   "outputs": [],
   "source": [
    "def solve(dataset, max_iter=20):\n",
    "    B = sla.inv(dataset['A'][:, dataset['jb']])\n",
    "    jn = [i for i in range(dataset['A'].shape[1]) if i not in dataset['jb']]\n",
    "    init_delta = np.dot(dataset['c'][dataset['jb']], B @ dataset['A'][:, jn]) - dataset['c'][jn]\n",
    "    delta = {jn[i]: init_delta[i] for i in range(len(jn))}\n",
    "    for i in range(max_iter):\n",
    "        print('\\n==============================================\\n')\n",
    "        print(f'Iteration {i + 1}\\n')\n",
    "        B, delta = iteration(dataset, B, delta)\n",
    "        if B is None:\n",
    "            if delta is None:\n",
    "                print('No solution')\n",
    "            else:\n",
    "                plan = np.zeros(dataset['c'].shape)\n",
    "                plan[dataset['jb']] = delta\n",
    "                print(f'\\nOptimized plan: {plan}')\n",
    "                print(f\"cx: {dataset['c'][dataset['jb']].dot(delta)}\")\n",
    "            return\n",
    "    print(f'\\nBest found plan: {delta}')"
   ]
  },
  {
   "cell_type": "markdown",
   "id": "framed-roads",
   "metadata": {},
   "source": [
    "Проверим наш алгоритм на тестовом наборе данных"
   ]
  },
  {
   "cell_type": "code",
   "execution_count": 157,
   "id": "valuable-necklace",
   "metadata": {},
   "outputs": [
    {
     "name": "stdout",
     "output_type": "stream",
     "text": [
      "\n",
      "==============================================\n",
      "\n",
      "Iteration 1\n",
      "\n",
      "Current plan: [2. 4. 2.]\n",
      "\n",
      "Optimized plan: [2. 4. 2. 0. 0. 0. 0. 0.]\n",
      "cx: 34.0\n"
     ]
    }
   ],
   "source": [
    "solve(test_dataset)"
   ]
  },
  {
   "cell_type": "markdown",
   "id": "complicated-rendering",
   "metadata": {},
   "source": [
    "Далее рассмотрим задачу для варианта 28. Исходные данные:"
   ]
  },
  {
   "cell_type": "code",
   "execution_count": 158,
   "id": "radical-isolation",
   "metadata": {},
   "outputs": [],
   "source": [
    "var28 = {\n",
    "    'A': np.array([[ 1.,  2., -1.,  0.,  3.,  2.,  3.,  1.,  0.],\n",
    "                   [ 1.,  0.,  0.,  1., -1.,  3.,  0.,  7.,  5.],\n",
    "                   [ 0.,  1., -4.,  1., -3.,  1.,  0.,  1.,  0.],\n",
    "                   [ 1.,  2., -3.,  1., -1.,  2.,  5.,  0.,  4.]]),\n",
    "    'b': np.array([28., 59., -3., 3.]),\n",
    "    'c': np.array([8., 8., 2., 0., 21., 12., 16., 16., 9.]),\n",
    "    'y': np.array([5., 2., -3., 1.]),\n",
    "    'jb': [1, 3, 4, 6],  # изменил несколько индексов, чтобы алгоритм не прекращал работу на первой итерации\n",
    "}"
   ]
  },
  {
   "cell_type": "code",
   "execution_count": 159,
   "id": "governing-projection",
   "metadata": {},
   "outputs": [
    {
     "name": "stdout",
     "output_type": "stream",
     "text": [
      "\n",
      "==============================================\n",
      "\n",
      "Iteration 1\n",
      "\n",
      "Current plan: [-13.65217391  83.17391304  24.17391304  -5.73913043]\n",
      "k: 0\n",
      "jn: [0, 2, 5, 7, 8]\n",
      "mu: {0: -0.21739130434782605, 2: -2.2608695652173916, 5: -0.17391304347826075, 7: -1.652173913043478, 8: -3.0}\n",
      "sigma: {0: -0.6000000000000069, 2: 1.346153846153845, 5: 21.24999999999999, 7: 2.7894736842105314, 8: 1.3333333333333333}\n",
      "New jb: [0, 3, 4, 6]\n",
      "New delta: {2: 4.400000000000013, 5: 3.799999999999997, 7: 5.600000000000019, 8: 5.80000000000002, 1: -0.6000000000000069}\n",
      "\n",
      "==============================================\n",
      "\n",
      "Iteration 2\n",
      "\n",
      "Current plan: [ 62.8  -4.2  -0.4 -11.2]\n",
      "k: 3\n",
      "jn: [1, 2, 5, 7, 8]\n",
      "mu: {1: 0.4, 2: -0.6000000000000001, 5: -0.2, 7: -1.4000000000000001, 8: -0.2}\n",
      "sigma: {1: inf, 2: 7.3333333333333535, 5: 18.999999999999986, 7: 4.000000000000013, 8: 29.0000000000001}\n",
      "New jb: [0, 3, 4, 7]\n",
      "New delta: {2: 2.0000000000000044, 5: 2.9999999999999947, 8: 5.000000000000018, 1: 0.9999999999999986, 6: 4.000000000000013}\n",
      "\n",
      "==============================================\n",
      "\n",
      "Iteration 3\n",
      "\n",
      "Current plan: [2. 7. 6. 8.]\n",
      "\n",
      "Optimized plan: [2. 0. 0. 7. 6. 0. 0. 8. 0.]\n",
      "cx: 270.0\n"
     ]
    }
   ],
   "source": [
    "solve(var28)"
   ]
  },
  {
   "cell_type": "markdown",
   "id": "hired-cocktail",
   "metadata": {},
   "source": [
    "Аналогично решим задачу для варианта 29."
   ]
  },
  {
   "cell_type": "code",
   "execution_count": 162,
   "id": "sustained-charge",
   "metadata": {},
   "outputs": [],
   "source": [
    "var29 = {\n",
    "    'A': np.array([\n",
    "         [-2, -1,  1,  -7,  1,  0,  0,  2],\n",
    "         [-4,  2,  1,   0,  5,  1, -1,  5],\n",
    "         [ 1,  1,  0,  -1,  0,  3, -1,  1]]),\n",
    "    'b': np.array([-2, 4, -2]),\n",
    "    'c': np.array([-12, 2, 2, -6, 10, -1, -9, 8]),\n",
    "    'y': np.array([1, 2, -1]),\n",
    "    'jb': [1, 3, 5]\n",
    "}"
   ]
  },
  {
   "cell_type": "code",
   "execution_count": 163,
   "id": "awful-harvest",
   "metadata": {},
   "outputs": [
    {
     "name": "stdout",
     "output_type": "stream",
     "text": [
      "\n",
      "==============================================\n",
      "\n",
      "Iteration 1\n",
      "\n",
      "Current plan: [ 2.82352941 -0.11764706 -1.64705882]\n",
      "k: 2\n",
      "jn: [0, 2, 4, 6, 7]\n",
      "mu: {0: 1.4705882352941178, 2: -0.29411764705882354, 4: -1.2352941176470589, 6: -0.1764705882352941, 7: -0.8823529411764707}\n",
      "sigma: {0: inf, 2: 3.4, 4: 0.8095238095238095, 6: 45.333333333333336, 7: 3.3999999999999995}\n",
      "New jb: [1, 3, 4]\n",
      "New delta: {0: 2.1904761904761907, 2: 0.7619047619047619, 6: 7.857142857142857, 7: 2.2857142857142856, 5: 0.8095238095238095}\n",
      "\n",
      "==============================================\n",
      "\n",
      "Iteration 2\n",
      "\n",
      "Current plan: [-1.33333333  0.66666667  1.33333333]\n",
      "k: 0\n",
      "jn: [0, 2, 5, 6, 7]\n",
      "mu: {0: 0.9761904761904759, 2: -0.09523809523809519, 5: 2.5238095238095237, 6: -0.8571428571428571, 7: 0.7142857142857144}\n",
      "sigma: {0: inf, 2: 8.000000000000004, 5: inf, 6: 9.166666666666666, 7: inf}\n",
      "New jb: [2, 3, 4]\n",
      "New delta: {0: 10.000000000000002, 6: 0.9999999999999973, 7: 8.000000000000004, 5: 21.00000000000001, 1: 8.000000000000004}\n",
      "\n",
      "==============================================\n",
      "\n",
      "Iteration 3\n",
      "\n",
      "Current plan: [14.  2. -2.]\n",
      "k: 2\n",
      "jn: [0, 1, 5, 6, 7]\n",
      "mu: {0: 1.25, 1: 2.5, 5: 5.5, 6: -2.0, 7: 2.5}\n",
      "sigma: {0: inf, 1: inf, 5: inf, 6: 0.49999999999999867, 7: inf}\n",
      "New jb: [2, 3, 6]\n",
      "New delta: {0: 10.625, 7: 9.25, 5: 23.750000000000004, 1: 9.25, 4: 0.49999999999999867}\n",
      "\n",
      "==============================================\n",
      "\n",
      "Iteration 4\n",
      "\n",
      "Current plan: [5. 1. 1.]\n",
      "\n",
      "Optimized plan: [0. 0. 5. 1. 0. 0. 1. 0.]\n",
      "cx: -5.0\n"
     ]
    }
   ],
   "source": [
    "solve(var29)"
   ]
  }
 ],
 "metadata": {
  "kernelspec": {
   "display_name": "Python 3",
   "language": "python",
   "name": "python3"
  },
  "language_info": {
   "codemirror_mode": {
    "name": "ipython",
    "version": 3
   },
   "file_extension": ".py",
   "mimetype": "text/x-python",
   "name": "python",
   "nbconvert_exporter": "python",
   "pygments_lexer": "ipython3",
   "version": "3.6.9"
  }
 },
 "nbformat": 4,
 "nbformat_minor": 5
}
