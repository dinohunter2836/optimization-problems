{
 "cells": [
  {
   "cell_type": "markdown",
   "metadata": {},
   "source": [
    "# Лабораторная работа №2\n",
    "\n",
    "# Решение задач линейного программирования с помощью симплекс метода"
   ]
  },
  {
   "cell_type": "markdown",
   "metadata": {},
   "source": [
    "### Выполнил: Яковлев Артур, 853501"
   ]
  },
  {
   "cell_type": "markdown",
   "metadata": {},
   "source": []
  },
  {
   "cell_type": "code",
   "execution_count": 35,
   "metadata": {},
   "outputs": [],
   "source": [
    "import numpy as np\n",
    "import scipy.linalg as sla"
   ]
  },
  {
   "cell_type": "code",
   "execution_count": 67,
   "metadata": {},
   "outputs": [],
   "source": [
    "dataset1 = (\n",
    "    np.array([\n",
    "        [1, 2, -1, 0, 3, 2, 3, 1, 5],\n",
    "        [1, 0, 0, -1, -1, -3, 0, -6, 1],\n",
    "        [0, 1, -4, 1, 3, 1, 0, 1, 0],\n",
    "        [1, 2, -3, 1, -1, 2, 5, 0, 4],\n",
    "    ]),\n",
    "    np.array([-1, -3, 1, -5, 2, -3, 1, -1, -1]),\n",
    "    np.array([28.0, 59.0, -3.0, 3.0]),\n",
    "    [0, 3, 4, 7],\n",
    ")"
   ]
  },
  {
   "cell_type": "code",
   "execution_count": 37,
   "metadata": {},
   "outputs": [],
   "source": [
    "def potentials(vector, inv_matrix):\n",
    "    return vector.dot(inv_matrix)\n",
    "\n",
    "\n",
    "def approx(pot, opp_idx, A, c):\n",
    "    results = [0.0] * A.shape[1]\n",
    "    all_pos = True\n",
    "    for i in opp_idx:\n",
    "        results[i] = pot.dot(A[:, i]) - c[i]\n",
    "        if np.abs(results[i]) < 1e-9:\n",
    "            results[i] = 0.0\n",
    "        elif results[i] < 0:\n",
    "            all_pos = False\n",
    "    return results if not all_pos else None\n",
    "\n"
   ]
  },
  {
   "cell_type": "code",
   "execution_count": 16,
   "metadata": {},
   "outputs": [],
   "source": []
  },
  {
   "cell_type": "code",
   "execution_count": 66,
   "metadata": {},
   "outputs": [],
   "source": [
    "def get_next_solution(dataset, B, x):\n",
    "    A = dataset[0]\n",
    "    c = dataset[1]\n",
    "    b = dataset[2]\n",
    "    idx = dataset[3]\n",
    "    size = A.shape[1]\n",
    "    opposite_idx = set(range(size))\n",
    "    for i in idx:\n",
    "        opposite_idx.remove(i)\n",
    "    A_b = A[:, idx]\n",
    "    c_b = c[idx]\n",
    "    # print(A_b)\n",
    "    if B is None:\n",
    "        B = sla.inv(A_b)\n",
    "    \n",
    "    pot = potentials(c_b, B)\n",
    "    approximation = approx(pot, opposite_idx, A, c)\n",
    "    if approximation is None:\n",
    "        print(f\"{x} is already the most optimized plan\")\n",
    "        return x\n",
    "    # print(\"Approx: \", approximation)\n",
    "\n",
    "    j = 0.0\n",
    "    for i in range(len(approximation)):\n",
    "        if approximation[i] < 0:\n",
    "            j = i\n",
    "            break\n",
    "    \n",
    "    if j == 0.0:\n",
    "        print(\"Some error occured\")\n",
    "        return None\n",
    "    \n",
    "    z = B.dot(A[:, j])\n",
    "    \n",
    "    pos_idx = []\n",
    "    for i in range(len(z)):\n",
    "        if z[i] > 0.0:\n",
    "            pos_idx.append(i)\n",
    "        \n",
    "    # print(\"z: \", z)\n",
    "    \n",
    "    if len(pos_idx) == 0:\n",
    "        return None\n",
    "    \n",
    "    min_value = None\n",
    "    \n",
    "    for i in range(len(z)):\n",
    "        value = x[idx[i]] / z[i]\n",
    "        if min_value is None or value < min_value:\n",
    "            min_value = value\n",
    "            x_idx = idx[i]\n",
    "            z_idx = i\n",
    "    \n",
    "    if min_value is None:\n",
    "        print(\"Some error occured\")\n",
    "        return None\n",
    "    \n",
    "    new_x = x.copy()\n",
    "    print(\"old x: \", x)\n",
    "    for i in range(len(z)):\n",
    "        new_x[idx[i]] = x[idx[i]] - min_value * z[i]\n",
    "        if np.abs(new_x[idx[i]]) < 1e-9:\n",
    "            new_x[idx[i]] = 0.0\n",
    "    new_x[j] = min_value\n",
    "    print(\"New x: \", new_x)\n",
    "    idx.remove(x_idx)\n",
    "    idx.append(j)\n",
    "    idx = sorted(idx)\n",
    "    # print(\"idx: \", idx)\n",
    "    M = np.eye(len(z))\n",
    "    d = np.array([0.0] * len(z))\n",
    "    for i in range(len(z)):\n",
    "        d[i] = -z[i]\n",
    "    d[z_idx] = 1\n",
    "    d /= z[z_idx]\n",
    "    M[:, z_idx] = d\n",
    "    # print(M)\n",
    "    B = M.dot(B)\n",
    "    return new_x\n",
    "    \n",
    "\n",
    "def solve(dataset, init_plan, max_iter=100):\n",
    "    curr_plan = init_plan\n",
    "    B = None\n",
    "    for i in range(max_iter):\n",
    "        new_plan = get_next_solution(dataset, B, curr_plan)\n",
    "        if curr_plan is None:\n",
    "            print(\"No solution as function has no upper bound\")\n",
    "            break\n",
    "        plans_equal = True\n",
    "        for i in range(len(curr_plan)):\n",
    "            if np.abs(new_plan[i] - curr_plan[i]) != 0:\n",
    "                plans_equal = False\n",
    "                break\n",
    "        \n",
    "        if plans_equal:\n",
    "            print(curr_plan)\n",
    "            break\n",
    "        else:\n",
    "            curr_plan = new_plan\n",
    "    print(curr_plan)\n"
   ]
  },
  {
   "cell_type": "code",
   "execution_count": 68,
   "metadata": {},
   "outputs": [
    {
     "name": "stdout",
     "output_type": "stream",
     "text": [
      "old x:  [2 0 0 7 6 0 0 8 0]\n",
      "New x:  [0 1 0 6 5 0 0 7 0]\n",
      "old x:  [0 1 0 6 5 0 0 7 0]\n",
      "New x:  [   0  118    0    0  -12 -123    0   72    0]\n",
      "old x:  [   0  118    0    0  -12 -123    0   72    0]\n",
      "New x:  [  0  39   0   4   0 -40   0  27   0]\n",
      "old x:  [  0  39   0   4   0 -40   0  27   0]\n",
      "New x:  [   0  117    0    0  -11 -122    0   71    0]\n",
      "old x:  [   0  117    0    0  -11 -122    0   71    0]\n",
      "New x:  [  0  44   0   3   0 -46   0  30   0]\n",
      "old x:  [  0  44   0   3   0 -46   0  30   0]\n",
      "New x:  [   0  102    0    0   -8 -108    0   62    0]\n",
      "old x:  [   0  102    0    0   -8 -108    0   62    0]\n",
      "New x:  [  0  49   0   2   0 -52   0  32   0]\n",
      "old x:  [  0  49   0   2   0 -52   0  32   0]\n",
      "New x:  [  0  88   0   0  -5 -93   0  54   0]\n",
      "old x:  [  0  88   0   0  -5 -93   0  54   0]\n",
      "New x:  [  0  55   0   1   0 -58   0  35   0]\n",
      "old x:  [  0  55   0   1   0 -58   0  35   0]\n",
      "New x:  [  0  74   0   0  -2 -78   0  46   0]\n",
      "old x:  [  0  74   0   0  -2 -78   0  46   0]\n",
      "New x:  [  0  60   0   0   0 -64   0  38   0]\n",
      "old x:  [  0  60   0   0   0 -64   0  38   0]\n",
      "New x:  [  0  60   0   0   0 -64   0  38   0]\n",
      "[  0  60   0   0   0 -64   0  38   0]\n",
      "[  0  60   0   0   0 -64   0  38   0]\n"
     ]
    }
   ],
   "source": [
    "# Before using this, activate part with dataset, otherwise some entries might have wrong values assigned to them\n",
    "solve(dataset1, np.array([2, 0, 0, 7, 6, 0, 0, 8, 0]))"
   ]
  }
 ],
 "metadata": {
  "kernelspec": {
   "display_name": "Python 3",
   "language": "python",
   "name": "python3"
  },
  "language_info": {
   "codemirror_mode": {
    "name": "ipython",
    "version": 3
   },
   "file_extension": ".py",
   "mimetype": "text/x-python",
   "name": "python",
   "nbconvert_exporter": "python",
   "pygments_lexer": "ipython3",
   "version": "3.6.9"
  }
 },
 "nbformat": 4,
 "nbformat_minor": 4
}
