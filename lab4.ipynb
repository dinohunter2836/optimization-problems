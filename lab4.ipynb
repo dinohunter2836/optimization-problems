{
 "cells": [
  {
   "cell_type": "code",
   "execution_count": null,
   "id": "acute-television",
   "metadata": {},
   "outputs": [],
   "source": []
  },
  {
   "cell_type": "code",
   "execution_count": 1,
   "id": "consolidated-brother",
   "metadata": {},
   "outputs": [],
   "source": [
    "import numpy as np\n",
    "import scipy.linalg as sla\n",
    "from copy import deepcopy"
   ]
  },
  {
   "cell_type": "code",
   "execution_count": 160,
   "id": "entitled-criminal",
   "metadata": {},
   "outputs": [],
   "source": [
    "dataset = {\n",
    "    'a': np.array([1., 1., 1., 1., 1., 1., 1., 1., 1., 1., 1., 1.]),\n",
    "    'b': np.array([1., 1., 1., 1., 1., 1., 1., 1., 1., 1., 1., 1.]),\n",
    "    'c': np.array([\n",
    "        [  5.,  3.,  40., -2.,  -3.,  -6., -2.,  2.,  3., 11., -19., -1.],\n",
    "        [  4.,  3.,   4.,  6.,  -3.,   6., -7.,  8., -9., 10.,  -7.,  2.],\n",
    "        [ -5.,  9.,  20., -2.,  -3.,   6.,  7.,  8.,  0.,  0.,   1., -2.],\n",
    "        [ -2.,  3.,   0.,  4.,  -3.,   0., -1.,  4., -9.,  2.,   1.,  2.],\n",
    "        [ -4., -2.,  14.,  2.,   3.,   6.,  0.,  1., -4., 10.,  -1.,  2.],\n",
    "        [  2., -3.,   4.,  0.,  -3.,   4.,  7.,  8., -9.,  5.,   1., -8.],\n",
    "        [  1.,  3.,   0.,  2.,   3.,   2.,  4.,  1.,  0., -1.,  -3., -2.],\n",
    "        [ -5., -3.,   3., -2.,  -3.,  16.,  7.,  2., -9.,  1.,   1.,  2.],\n",
    "        [ -1.,  3.,   4., -1.,  -3.,   6.,  0.,  0., -9.,  6.,   1.,  6.],\n",
    "        [-12., -2.,   0., -2.,  -3.,   6.,  7.,  8.,  9.,  1.,  10.,  2.],\n",
    "        [  3.,  2.,   1., -9., -13., -16.,  4.,  1.,  3., 11.,  15.,  2.],\n",
    "        [ -3.,  5.,  12.,  4., -14., -15., 21., 11., -1., 22.,  12.,  2.],\n",
    "    ]),\n",
    "}\n",
    "eps = 1e-9"
   ]
  },
  {
   "cell_type": "code",
   "execution_count": 131,
   "id": "governmental-spokesman",
   "metadata": {},
   "outputs": [],
   "source": [
    "def north_west(dataset):\n",
    "    a = deepcopy(dataset['a'])\n",
    "    b = deepcopy(dataset['b'])\n",
    "    c = deepcopy(dataset['c'])\n",
    "    i = 0\n",
    "    j = 0\n",
    "    plan = {}\n",
    "    x = np.zeros(c.shape)\n",
    "    for _ in range(a.shape[0] + b.shape[0] - 1):\n",
    "        if i + 1 == a.shape[0]:\n",
    "            x[i, j] = b[j]\n",
    "        elif j + 1 == b.shape[0]:\n",
    "            x[i, j] = a[i]\n",
    "        else:\n",
    "            x[i, j] = min(a[i], b[j])\n",
    "        plan[(i, j)] = x[i, j]\n",
    "        if x[i, j] == a[i]:\n",
    "            b[j] -= x[i, j]\n",
    "            i += 1\n",
    "        else:\n",
    "            a[i] -= x[i, j]\n",
    "            j += 1\n",
    "    return plan"
   ]
  },
  {
   "cell_type": "code",
   "execution_count": 129,
   "id": "collect-tuning",
   "metadata": {},
   "outputs": [],
   "source": [
    "def min_element(dataset):\n",
    "    a = deepcopy(dataset['a'])\n",
    "    b = deepcopy(dataset['b'])\n",
    "    c = np.array(deepcopy(dataset['c']))\n",
    "    plan = {}\n",
    "    for _ in range(a.shape[0] + b.shape[0] - 1):\n",
    "        min_value = np.argmin(c)\n",
    "        j, i = min_value % c.shape[0], min_value // c.shape[1]\n",
    "        x = min(a[i], b[j])\n",
    "        if x == a[i]:\n",
    "            c[i, :] = np.inf\n",
    "            b[j] -= x\n",
    "        else:\n",
    "            c[:, j] = np.inf\n",
    "            a[i] -= x\n",
    "        \n",
    "        plan[(i, j)] = x\n",
    "    \n",
    "    return plan"
   ]
  },
  {
   "cell_type": "code",
   "execution_count": 133,
   "id": "compliant-somewhere",
   "metadata": {},
   "outputs": [
    {
     "data": {
      "text/plain": [
       "{(0, 10): 1.0,\n",
       " (10, 5): 1.0,\n",
       " (11, 5): 0.0,\n",
       " (11, 4): 1.0,\n",
       " (9, 0): 1.0,\n",
       " (1, 8): 1.0,\n",
       " (3, 8): 0.0,\n",
       " (5, 11): 1.0,\n",
       " (2, 0): 0.0,\n",
       " (2, 4): 0.0,\n",
       " (6, 10): 0.0,\n",
       " (7, 1): 1.0,\n",
       " (2, 3): 1.0,\n",
       " (4, 1): 0.0,\n",
       " (6, 11): 0.0,\n",
       " (3, 6): 1.0,\n",
       " (6, 9): 1.0,\n",
       " (8, 3): 0.0,\n",
       " (4, 6): 0.0,\n",
       " (8, 7): 1.0,\n",
       " (4, 7): 0.0,\n",
       " (4, 9): 0.0,\n",
       " (4, 2): 1.0}"
      ]
     },
     "execution_count": 133,
     "metadata": {},
     "output_type": "execute_result"
    }
   ],
   "source": [
    "min_element(dataset)"
   ]
  },
  {
   "cell_type": "code",
   "execution_count": null,
   "id": "charged-scenario",
   "metadata": {},
   "outputs": [],
   "source": [
    "def get_cycle(c, init_plan, i0, j0):\n",
    "    plan = deepcopy(init_plan)\n",
    "    c = np.zeros(c.shape)\n",
    "    for i, j in init_plan.keys():\n",
    "        c[i, j] = 1.\n",
    "    \n",
    "    c[i0, j0] = 1.\n",
    "    "
   ]
  },
  {
   "cell_type": "code",
   "execution_count": 159,
   "id": "executed-commodity",
   "metadata": {},
   "outputs": [],
   "source": [
    "def solve(dataset, init_plan, max_iters=1, verbose=True):\n",
    "    a = deepcopy(dataset['a'])\n",
    "    b = deepcopy(dataset['b'])\n",
    "    c = deepcopy(dataset['c'])\n",
    "    \n",
    "    for it in range(max_iters):\n",
    "        \n",
    "        # Step 1\n",
    "        u, v = np.array([np.inf] * a.shape[0]), np.array([np.inf] * b.shape[0])\n",
    "        u[0] = 0.\n",
    "        while np.any(u == np.inf) or np.any(v == np.inf):\n",
    "            for i in range(a.shape[0]):\n",
    "                for j in range(b.shape[0]):\n",
    "                    if (i, j) in init_plan:\n",
    "                        if u[i] != np.inf and v[j] == np.inf:\n",
    "                            v[j] = c[i, j] - u[i]\n",
    "                        elif u[i] == np.inf and v[j] != np.inf:\n",
    "                            u[i] = c[i, j] - v[j]\n",
    "        \n",
    "        # Step 2\n",
    "        delta_j = -c + u.reshape(1, -1)[0, :] + v.reshape(-1, 1)[:, 0][:, np.newaxis]\n",
    "        for i, j in init_plan.keys():\n",
    "            delta_j[i, j] = -np.inf\n",
    "        \n",
    "        # Step 3\n",
    "        if np.all(delta_j < -eps):\n",
    "            return init_plan\n",
    "        \n",
    "        # Step 4\n",
    "        i0, j0 = np.argmax(delta_j) // a.shape[0], np.argmax(delta_j) % b.shape[0]\n",
    "        "
   ]
  },
  {
   "cell_type": "code",
   "execution_count": 151,
   "id": "impossible-millennium",
   "metadata": {},
   "outputs": [
    {
     "ename": "TypeError",
     "evalue": "'axis' is an invalid keyword to ufunc 'add'",
     "output_type": "error",
     "traceback": [
      "\u001b[0;31m---------------------------------------------------------------------------\u001b[0m",
      "\u001b[0;31mTypeError\u001b[0m                                 Traceback (most recent call last)",
      "\u001b[0;32m<ipython-input-151-910618986704>\u001b[0m in \u001b[0;36m<module>\u001b[0;34m\u001b[0m\n\u001b[0;32m----> 1\u001b[0;31m \u001b[0msolve\u001b[0m\u001b[0;34m(\u001b[0m\u001b[0mdataset\u001b[0m\u001b[0;34m,\u001b[0m \u001b[0mmin_element\u001b[0m\u001b[0;34m(\u001b[0m\u001b[0mdataset\u001b[0m\u001b[0;34m)\u001b[0m\u001b[0;34m)\u001b[0m\u001b[0;34m\u001b[0m\u001b[0;34m\u001b[0m\u001b[0m\n\u001b[0m",
      "\u001b[0;32m<ipython-input-150-0e26bcfa5522>\u001b[0m in \u001b[0;36msolve\u001b[0;34m(dataset, init_plan, max_iters, verbose)\u001b[0m\n\u001b[1;32m     19\u001b[0m \u001b[0;34m\u001b[0m\u001b[0m\n\u001b[1;32m     20\u001b[0m         \u001b[0;31m# Step 2\u001b[0m\u001b[0;34m\u001b[0m\u001b[0;34m\u001b[0m\u001b[0;34m\u001b[0m\u001b[0m\n\u001b[0;32m---> 21\u001b[0;31m         \u001b[0mdelta_j\u001b[0m \u001b[0;34m=\u001b[0m \u001b[0mnp\u001b[0m\u001b[0;34m.\u001b[0m\u001b[0madd\u001b[0m\u001b[0;34m(\u001b[0m\u001b[0mnp\u001b[0m\u001b[0;34m.\u001b[0m\u001b[0madd\u001b[0m\u001b[0;34m(\u001b[0m\u001b[0;34m-\u001b[0m\u001b[0mc\u001b[0m\u001b[0;34m,\u001b[0m \u001b[0mu\u001b[0m\u001b[0;34m,\u001b[0m \u001b[0maxis\u001b[0m\u001b[0;34m=\u001b[0m\u001b[0;36m0\u001b[0m\u001b[0;34m)\u001b[0m\u001b[0;34m,\u001b[0m \u001b[0mv\u001b[0m\u001b[0;34m,\u001b[0m \u001b[0maxis\u001b[0m\u001b[0;34m=\u001b[0m\u001b[0;36m1\u001b[0m\u001b[0;34m)\u001b[0m\u001b[0;34m\u001b[0m\u001b[0;34m\u001b[0m\u001b[0m\n\u001b[0m\u001b[1;32m     22\u001b[0m         \u001b[0mprint\u001b[0m\u001b[0;34m(\u001b[0m\u001b[0mdelta_j\u001b[0m\u001b[0;34m)\u001b[0m\u001b[0;34m\u001b[0m\u001b[0;34m\u001b[0m\u001b[0m\n",
      "\u001b[0;31mTypeError\u001b[0m: 'axis' is an invalid keyword to ufunc 'add'"
     ]
    }
   ],
   "source": [
    "solve(dataset, min_element(dataset))"
   ]
  }
 ],
 "metadata": {
  "kernelspec": {
   "display_name": "Python 3",
   "language": "python",
   "name": "python3"
  },
  "language_info": {
   "codemirror_mode": {
    "name": "ipython",
    "version": 3
   },
   "file_extension": ".py",
   "mimetype": "text/x-python",
   "name": "python",
   "nbconvert_exporter": "python",
   "pygments_lexer": "ipython3",
   "version": "3.6.9"
  }
 },
 "nbformat": 4,
 "nbformat_minor": 5
}
