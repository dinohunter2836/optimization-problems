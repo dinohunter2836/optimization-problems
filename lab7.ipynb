{
 "cells": [
  {
   "cell_type": "markdown",
   "id": "boxed-vietnam",
   "metadata": {},
   "source": [
    "# Задачи оптимального управления\n",
    "## Выполнил: Яковлев Артур. 853501\n",
    "## Проверила: Костюкова О.И."
   ]
  },
  {
   "cell_type": "markdown",
   "id": "accomplished-helicopter",
   "metadata": {},
   "source": [
    "### Вариант 3"
   ]
  },
  {
   "cell_type": "code",
   "execution_count": 73,
   "id": "sticky-gibraltar",
   "metadata": {},
   "outputs": [],
   "source": [
    "from scipy.integrate import odeint\n",
    "import numpy as np\n",
    "from qpsolvers import solve_qp\n",
    "import matplotlib.pyplot as plt"
   ]
  },
  {
   "cell_type": "markdown",
   "id": "intense-partition",
   "metadata": {},
   "source": [
    "Исходные данные"
   ]
  },
  {
   "cell_type": "code",
   "execution_count": 74,
   "id": "broadband-shooting",
   "metadata": {},
   "outputs": [],
   "source": [
    "dataset = {\n",
    "    'D': np.array([\n",
    "         [9., 10, 5, 10],\n",
    "         [10, 26, -5, 19],\n",
    "         [5, -5, 18, 0],\n",
    "         [10, 19, 0, 18],\n",
    "    ]),\n",
    "    't0': 0,\n",
    "    't_ast': 10,\n",
    "    'N': 100,\n",
    "    'x0': np.array([-5., -4., -3., 1.]),\n",
    "    'b': np.array([0., 0., 0., 1.]),\n",
    "    'Ab': np.array([\n",
    "        [0, 1, 0, 0.],\n",
    "        [0, 0, 1, 0.],\n",
    "        [0, 0, 0, 1.],\n",
    "        [0, 0, 0, 0.],\n",
    "    ]),\n",
    "    'H': np.array([\n",
    "        [1., 0, 1, 0],\n",
    "        [1, 0, -1, 0]\n",
    "    ]),\n",
    "    'c': np.array([1., 0.5, -1., -1.]),\n",
    "    'g': np.array([-21.3333, -35.3333]),\n",
    "}"
   ]
  },
  {
   "cell_type": "code",
   "execution_count": 103,
   "id": "silent-warehouse",
   "metadata": {},
   "outputs": [],
   "source": [
    "def solve(dataset):\n",
    "    N = dataset['N']\n",
    "    D = dataset['D']\n",
    "    t0 = dataset['t0']\n",
    "    t_ast = dataset['t_ast']\n",
    "    x0 = dataset['x0']\n",
    "    b = dataset['b']\n",
    "    Ab = dataset['Ab']\n",
    "    H = dataset['H']\n",
    "    c = dataset['c']\n",
    "    g = dataset['g']\n",
    "\n",
    "    time = np.linspace(t0, t_ast, N + 1)\n",
    "    int_1 = odeint(lambda q1, q2, q3: q3.dot(q1), x0, time, args=(Ab, ))\n",
    "    plt.title('w(t)')\n",
    "    plt.plot(time, int_1)\n",
    "    plt.show()\n",
    "    w = int_1[-1]\n",
    "    print('w(t*) =', w, '\\n')\n",
    "\n",
    "    h = (t_ast - t0) / N\n",
    "    time = np.linspace(t0, t0 + h)\n",
    "    int_1 = odeint(lambda q1, q2, q3, q4: q3.dot(q1) + q4, np.zeros(b.shape[0]), time, args=(Ab, b,))\n",
    "    print('y(t1) =', int_1[-1], '\\n')\n",
    "\n",
    "    time = np.linspace(t0 + h, t_ast, N)\n",
    "    zt = odeint(lambda q1, q2, q3: q3.dot(q1), int_1[-1], time, args=(Ab,))\n",
    "    plt.title('Solution to dz/dt = Az(t)')\n",
    "    plt.plot(zt, time)\n",
    "    plt.show()\n",
    "\n",
    "    B0 = w.copy()\n",
    "    B = np.concatenate(tuple(reversed(tuple(map(lambda q: np.vstack(q), zt)))), axis=1)\n",
    "    for i in range(B.shape[0]):\n",
    "        for j in range(B.shape[1]):\n",
    "            B[i][j] = round(B[i][j], 4)\n",
    "    print('B0 =', B0)\n",
    "    print('B =', B, '\\n')\n",
    "\n",
    "    print(\"Solving (B0 + BU)'D(B0 + BU) + c'(B0 + BU) -> min\")\n",
    "\n",
    "    D_ = (np.transpose(B) @ D).dot(B)\n",
    "    A_ = H.dot(B)\n",
    "    c_ = np.transpose(B).dot(c + D @ B0)\n",
    "    b_ = g - H.dot(B0)\n",
    "    u = solve_qp(D_ + np.eye(N) * 0.01, c_, None, None, A_, b_, np.array([-1. for _ in range(N)]), \n",
    "                 np.array([1. for _ in range(N)]))\n",
    "\n",
    "    plt.title('Solution')\n",
    "    plt.scatter(np.linspace(t0, t_ast, N), u, s=1)\n",
    "    plt.show()"
   ]
  },
  {
   "cell_type": "code",
   "execution_count": 104,
   "id": "mature-planner",
   "metadata": {},
   "outputs": [
    {
     "data": {
      "image/png": "[encoded data removed]",
      "text/plain": [
       "<Figure size 432x288 with 1 Axes>"
      ]
     },
     "metadata": {
      "needs_background": "light"
     },
     "output_type": "display_data"
    },
    {
     "name": "stdout",
     "output_type": "stream",
     "text": [
      "w(t*) = [-28.33333325  16.           7.           1.        ] \n",
      "\n",
      "y(t1) = [4.17138817e-06 1.66649197e-04 5.00000000e-03 1.00000000e-01] \n",
      "\n"
     ]
    },
    {
     "data": {
      "image/png": "[encoded data removed]",
      "text/plain": [
       "<Figure size 432x288 with 1 Axes>"
      ]
     },
     "metadata": {
      "needs_background": "light"
     },
     "output_type": "display_data"
    },
    {
     "name": "stdout",
     "output_type": "stream",
     "text": [
      "B0 = [-28.33333325  16.           7.           1.        ]\n",
      "B = [[1.64183e+01 1.59283e+01 1.54481e+01 1.49776e+01 1.45168e+01 1.40655e+01\n",
      "  1.36237e+01 1.31913e+01 1.27681e+01 1.23540e+01 1.19490e+01 1.15529e+01\n",
      "  1.11657e+01 1.07873e+01 1.04175e+01 1.00562e+01 9.70340e+00 9.35890e+00\n",
      "  9.02270e+00 8.69470e+00 8.37470e+00 8.06260e+00 7.75840e+00 7.46190e+00\n",
      "  7.17310e+00 6.89190e+00 6.61810e+00 6.35160e+00 6.09240e+00 5.84030e+00\n",
      "  5.59530e+00 5.35730e+00 5.12610e+00 4.90160e+00 4.68380e+00 4.47250e+00\n",
      "  4.26770e+00 4.06930e+00 3.87710e+00 3.69100e+00 3.51100e+00 3.33690e+00\n",
      "  3.16870e+00 3.00630e+00 2.84950e+00 2.69820e+00 2.55240e+00 2.41190e+00\n",
      "  2.27670e+00 2.14670e+00 2.02170e+00 1.90160e+00 1.78640e+00 1.67590e+00\n",
      "  1.57010e+00 1.46890e+00 1.37210e+00 1.27960e+00 1.19140e+00 1.10730e+00\n",
      "  1.02730e+00 9.51300e-01 8.79100e-01 8.10600e-01 7.45800e-01 6.84500e-01\n",
      "  6.26700e-01 5.72300e-01 5.21100e-01 4.73000e-01 4.28000e-01 3.85900e-01\n",
      "  3.46700e-01 3.10300e-01 2.76500e-01 2.45200e-01 2.16400e-01 1.89900e-01\n",
      "  1.65700e-01 1.43700e-01 1.23700e-01 1.05600e-01 8.94000e-02 7.49000e-02\n",
      "  6.21000e-02 5.09000e-02 4.11000e-02 3.26000e-02 2.54000e-02 1.93000e-02\n",
      "  1.43000e-02 1.03000e-02 7.10000e-03 4.60000e-03 2.80000e-03 1.50000e-03\n",
      "  7.00000e-04 3.00000e-04 1.00000e-04 0.00000e+00]\n",
      " [4.95020e+00 4.85120e+00 4.75320e+00 4.65620e+00 4.56020e+00 4.46520e+00\n",
      "  4.37120e+00 4.27820e+00 4.18620e+00 4.09520e+00 4.00520e+00 3.91620e+00\n",
      "  3.82820e+00 3.74120e+00 3.65520e+00 3.57020e+00 3.48620e+00 3.40320e+00\n",
      "  3.32120e+00 3.24020e+00 3.16020e+00 3.08120e+00 3.00320e+00 2.92620e+00\n",
      "  2.85020e+00 2.77520e+00 2.70120e+00 2.62820e+00 2.55620e+00 2.48520e+00\n",
      "  2.41520e+00 2.34620e+00 2.27820e+00 2.21120e+00 2.14520e+00 2.08020e+00\n",
      "  2.01620e+00 1.95320e+00 1.89120e+00 1.83020e+00 1.77020e+00 1.71120e+00\n",
      "  1.65320e+00 1.59620e+00 1.54020e+00 1.48520e+00 1.43120e+00 1.37820e+00\n",
      "  1.32620e+00 1.27520e+00 1.22520e+00 1.17620e+00 1.12820e+00 1.08120e+00\n",
      "  1.03520e+00 9.90200e-01 9.46200e-01 9.03200e-01 8.61200e-01 8.20200e-01\n",
      "  7.80200e-01 7.41200e-01 7.03200e-01 6.66200e-01 6.30200e-01 5.95200e-01\n",
      "  5.61200e-01 5.28200e-01 4.96200e-01 4.65200e-01 4.35200e-01 4.06200e-01\n",
      "  3.78200e-01 3.51200e-01 3.25200e-01 3.00200e-01 2.76200e-01 2.53200e-01\n",
      "  2.31200e-01 2.10200e-01 1.90200e-01 1.71200e-01 1.53200e-01 1.36200e-01\n",
      "  1.20200e-01 1.05200e-01 9.12000e-02 7.82000e-02 6.62000e-02 5.52000e-02\n",
      "  4.52000e-02 3.62000e-02 2.82000e-02 2.12000e-02 1.52000e-02 1.02000e-02\n",
      "  6.20000e-03 3.20000e-03 1.20000e-03 2.00000e-04]\n",
      " [9.95000e-01 9.85000e-01 9.75000e-01 9.65000e-01 9.55000e-01 9.45000e-01\n",
      "  9.35000e-01 9.25000e-01 9.15000e-01 9.05000e-01 8.95000e-01 8.85000e-01\n",
      "  8.75000e-01 8.65000e-01 8.55000e-01 8.45000e-01 8.35000e-01 8.25000e-01\n",
      "  8.15000e-01 8.05000e-01 7.95000e-01 7.85000e-01 7.75000e-01 7.65000e-01\n",
      "  7.55000e-01 7.45000e-01 7.35000e-01 7.25000e-01 7.15000e-01 7.05000e-01\n",
      "  6.95000e-01 6.85000e-01 6.75000e-01 6.65000e-01 6.55000e-01 6.45000e-01\n",
      "  6.35000e-01 6.25000e-01 6.15000e-01 6.05000e-01 5.95000e-01 5.85000e-01\n",
      "  5.75000e-01 5.65000e-01 5.55000e-01 5.45000e-01 5.35000e-01 5.25000e-01\n",
      "  5.15000e-01 5.05000e-01 4.95000e-01 4.85000e-01 4.75000e-01 4.65000e-01\n",
      "  4.55000e-01 4.45000e-01 4.35000e-01 4.25000e-01 4.15000e-01 4.05000e-01\n",
      "  3.95000e-01 3.85000e-01 3.75000e-01 3.65000e-01 3.55000e-01 3.45000e-01\n",
      "  3.35000e-01 3.25000e-01 3.15000e-01 3.05000e-01 2.95000e-01 2.85000e-01\n",
      "  2.75000e-01 2.65000e-01 2.55000e-01 2.45000e-01 2.35000e-01 2.25000e-01\n",
      "  2.15000e-01 2.05000e-01 1.95000e-01 1.85000e-01 1.75000e-01 1.65000e-01\n",
      "  1.55000e-01 1.45000e-01 1.35000e-01 1.25000e-01 1.15000e-01 1.05000e-01\n",
      "  9.50000e-02 8.50000e-02 7.50000e-02 6.50000e-02 5.50000e-02 4.50000e-02\n",
      "  3.50000e-02 2.50000e-02 1.50000e-02 5.00000e-03]\n",
      " [1.00000e-01 1.00000e-01 1.00000e-01 1.00000e-01 1.00000e-01 1.00000e-01\n",
      "  1.00000e-01 1.00000e-01 1.00000e-01 1.00000e-01 1.00000e-01 1.00000e-01\n",
      "  1.00000e-01 1.00000e-01 1.00000e-01 1.00000e-01 1.00000e-01 1.00000e-01\n",
      "  1.00000e-01 1.00000e-01 1.00000e-01 1.00000e-01 1.00000e-01 1.00000e-01\n",
      "  1.00000e-01 1.00000e-01 1.00000e-01 1.00000e-01 1.00000e-01 1.00000e-01\n",
      "  1.00000e-01 1.00000e-01 1.00000e-01 1.00000e-01 1.00000e-01 1.00000e-01\n",
      "  1.00000e-01 1.00000e-01 1.00000e-01 1.00000e-01 1.00000e-01 1.00000e-01\n",
      "  1.00000e-01 1.00000e-01 1.00000e-01 1.00000e-01 1.00000e-01 1.00000e-01\n",
      "  1.00000e-01 1.00000e-01 1.00000e-01 1.00000e-01 1.00000e-01 1.00000e-01\n",
      "  1.00000e-01 1.00000e-01 1.00000e-01 1.00000e-01 1.00000e-01 1.00000e-01\n",
      "  1.00000e-01 1.00000e-01 1.00000e-01 1.00000e-01 1.00000e-01 1.00000e-01\n",
      "  1.00000e-01 1.00000e-01 1.00000e-01 1.00000e-01 1.00000e-01 1.00000e-01\n",
      "  1.00000e-01 1.00000e-01 1.00000e-01 1.00000e-01 1.00000e-01 1.00000e-01\n",
      "  1.00000e-01 1.00000e-01 1.00000e-01 1.00000e-01 1.00000e-01 1.00000e-01\n",
      "  1.00000e-01 1.00000e-01 1.00000e-01 1.00000e-01 1.00000e-01 1.00000e-01\n",
      "  1.00000e-01 1.00000e-01 1.00000e-01 1.00000e-01 1.00000e-01 1.00000e-01\n",
      "  1.00000e-01 1.00000e-01 1.00000e-01 1.00000e-01]] \n",
      "\n",
      "Solving (B0 + BU)'D(B0 + BU) + c'(B0 + BU) -> min\n"
     ]
    },
    {
     "data": {
      "image/png": "[encoded data removed]",
      "text/plain": [
       "<Figure size 432x288 with 1 Axes>"
      ]
     },
     "metadata": {
      "needs_background": "light"
     },
     "output_type": "display_data"
    }
   ],
   "source": [
    "solve(dataset)"
   ]
  }
 ],
 "metadata": {
  "kernelspec": {
   "display_name": "Python 3",
   "language": "python",
   "name": "python3"
  },
  "language_info": {
   "codemirror_mode": {
    "name": "ipython",
    "version": 3
   },
   "file_extension": ".py",
   "mimetype": "text/x-python",
   "name": "python",
   "nbconvert_exporter": "python",
   "pygments_lexer": "ipython3",
   "version": "3.6.9"
  }
 },
 "nbformat": 4,
 "nbformat_minor": 5
}
