{
 "cells": [
  {
   "cell_type": "markdown",
   "id": "exposed-president",
   "metadata": {},
   "source": [
    "# Лабораторная работа № 3\n",
    "## Двойственный симплекс метод\n",
    "## Дополнительное задание"
   ]
  },
  {
   "cell_type": "markdown",
   "id": "maritime-notification",
   "metadata": {},
   "source": [
    "### Выполнил: Яковлев Артур, 853501\n",
    "### Проверила: Костюкова О.И."
   ]
  },
  {
   "cell_type": "markdown",
   "id": "collect-sellers",
   "metadata": {},
   "source": [
    "### Вариант 7"
   ]
  },
  {
   "cell_type": "markdown",
   "id": "spanish-charlotte",
   "metadata": {},
   "source": [
    "Импорт необходиых модулей"
   ]
  },
  {
   "cell_type": "code",
   "execution_count": 2,
   "id": "sustainable-chair",
   "metadata": {},
   "outputs": [],
   "source": [
    "import numpy as np\n",
    "import scipy.linalg as sla\n",
    "from copy import deepcopy"
   ]
  },
  {
   "cell_type": "markdown",
   "id": "recovered-limitation",
   "metadata": {},
   "source": [
    "Исходные данные для пункта а)"
   ]
  },
  {
   "cell_type": "code",
   "execution_count": 137,
   "id": "controlled-cabinet",
   "metadata": {},
   "outputs": [],
   "source": [
    "dataset = {\n",
    "    'A': np.array([\n",
    "        [ 1., -1., 0.,  2., -1., 1., 2., 1., 7.],\n",
    "        [-1.,  2., 1.,  3.,  0., 1., 1., 1., 1.],\n",
    "        [ 1., -1., 1.,  0.,  1., 4., 4., 1., 2.],\n",
    "        [ 1., -3., 0., -8.,  2., 3., 0., 1., 1.]\n",
    "    ]),\n",
    "    'c': np.array([12., -24., -6., -34., -1., 4., 7., 3., 23.]),\n",
    "    'b': np.array([2.5, 22., 36.5, -18.]),\n",
    "    'lower': np.array([-1., -4., -1., 4., -3., 4., 0., -1., -4.]),\n",
    "    'upper': np.array([3., 0., 6., 7., 4., 8., 4., 4., 1.]),\n",
    "    'Jb': [0, 2, 5, 8],\n",
    "}\n",
    "eps = 1e-9"
   ]
  },
  {
   "cell_type": "markdown",
   "id": "abandoned-bikini",
   "metadata": {},
   "source": [
    "Исходные данные для пункта б)"
   ]
  },
  {
   "cell_type": "code",
   "execution_count": 138,
   "id": "directed-halifax",
   "metadata": {},
   "outputs": [],
   "source": [
    "dataset_b = {\n",
    "    'A': np.array([\n",
    "        [ 1., -1., 0.,  2., -1., 1., 2., 1., 7.],\n",
    "        [-1.,  2., 1.,  3.,  0., 1., 1., 1., 1.],\n",
    "        [ 1., -1., 1.,  0.,  1., 4., 4., 1., 2.],\n",
    "        [ 1., -3., 0., -8.,  2., 3., 0., 1., 1.]\n",
    "    ]),\n",
    "    'c': np.array([12., -24., -6., -34., -1., 4., 7., 3., 23.]),\n",
    "    'b': np.array([2.5, 22., 36.5, -18.]),\n",
    "    'lower': np.array([-1., -4., -1., 4., -3., 4., 0., -1., -4.]),\n",
    "    'upper': np.array([3., 0., 6., 7., 4., 8., 4., 4., 1.]),\n",
    "    'Jb': [0, 2, 3, 4],\n",
    "}"
   ]
  },
  {
   "cell_type": "markdown",
   "id": "geological-control",
   "metadata": {},
   "source": [
    "Исходные данные для пункта в)"
   ]
  },
  {
   "cell_type": "code",
   "execution_count": 139,
   "id": "sustained-scottish",
   "metadata": {},
   "outputs": [],
   "source": [
    "dataset_c = {\n",
    "    'A': np.array([\n",
    "        [ 1., -1., 0.,  2., -1., 1., 2., 1., 7.],\n",
    "        [-1.,  2., 1.,  3.,  0., 1., 1., 1., 1.],\n",
    "        [ 1., -1., 1.,  0.,  1., 4., 4., 1., 2.],\n",
    "        [ 1., -3., 0., -8.,  2., 3., 0., 1., 1.]\n",
    "    ]),\n",
    "    'c': np.array([12., -24., -6., -34., -1., 4., 7., 3., 23.]),\n",
    "    'b': np.array([2., -20., -4., -10.]),\n",
    "    'lower': np.array([-1., -4., -1., 4., -3., 4., 0., -1., -4.]),\n",
    "    'upper': np.array([3., 0., 6., 7., 4., 8., 4., 4., 1.]),\n",
    "    'Jb': [0, 2, 5, 8],\n",
    "}"
   ]
  },
  {
   "cell_type": "markdown",
   "id": "damaged-auckland",
   "metadata": {},
   "source": [
    "Исходные данные для пункта г)"
   ]
  },
  {
   "cell_type": "code",
   "execution_count": 140,
   "id": "frequent-airline",
   "metadata": {},
   "outputs": [],
   "source": [
    "dataset_d = {\n",
    "    'A': np.array([\n",
    "        [ 1., -1., 0.,  2., -1., 1., 2., 1., 7.],\n",
    "        [-1.,  2., 1.,  3.,  0., 1., 1., 1., 1.],\n",
    "        [ 1., -1., 1.,  0.,  1., 4., 4., 1., 2.],\n",
    "        [ 1., -3., 0., -8.,  2., 3., 0., 1., 1.]\n",
    "    ]),\n",
    "    'c': np.array([12., -24., -6., -34., -1., 4., 7., 3., 23.]),\n",
    "    'b': np.array([2.5, 22., 36.5, -18.]),\n",
    "    'lower': np.array([-1., -4., -1., 4., -3., 4., 0., -1., -4.]),\n",
    "    'upper': np.array([3., 0., -1., 7., -3., 8., 4., 4., 1.]),\n",
    "    'Jb': [0, 2, 5, 8],\n",
    "}"
   ]
  },
  {
   "cell_type": "markdown",
   "id": "roman-banana",
   "metadata": {},
   "source": [
    "Реализация двойственного симплекс метода с ограничениями"
   ]
  },
  {
   "cell_type": "code",
   "execution_count": 147,
   "id": "joint-indian",
   "metadata": {},
   "outputs": [],
   "source": [
    "def solve(data, max_iters=20, verbose=True):\n",
    "    dataset = deepcopy(data)\n",
    "    B = sla.inv(dataset['A'][:, dataset['Jb']])\n",
    "    \n",
    "    if verbose:\n",
    "        print(f'A_b = {dataset[\"A\"][:, dataset[\"Jb\"]]}')\n",
    "        print(f'c_b = {dataset[\"c\"][dataset[\"Jb\"]]}')\n",
    "        print(f'B = {B}')\n",
    "        print(f'Jb = {dataset[\"Jb\"]}')\n",
    "    \n",
    "    # Step 1\n",
    "    y = dataset['c'][dataset['Jb']] @ B\n",
    "    delta_j = y @ dataset['A'] - dataset['c']\n",
    "    Jn = [i for i in range(dataset['c'].shape[0]) if i not in dataset['Jb']]\n",
    "    Jn_pos = [i for i in Jn if delta_j[i] > -eps]\n",
    "    Jn_neg = [i for i in Jn if delta_j[i] <= -eps]\n",
    "    \n",
    "    if verbose:\n",
    "        print('\\nStep 1\\n')\n",
    "        print(f'y = {y}')\n",
    "        print(f'delta j = {delta_j}')\n",
    "        print(f'Jn = {Jn}')\n",
    "        print(f'Jn+ = {Jn_pos}')\n",
    "        print(f'Jn- = {Jn_neg}')\n",
    "    \n",
    "    for it in range(max_iters):\n",
    "        # Step 2\n",
    "        x = np.zeros(dataset['c'].shape[0])\n",
    "        x[Jn_pos] = dataset['lower'][Jn_pos]\n",
    "        x[Jn_neg] = dataset['upper'][Jn_neg]\n",
    "        x[dataset['Jb']] = B.dot(dataset['b'] - np.sum(dataset['A'][:, Jn] * x[Jn], axis=1))\n",
    "        # x[dataset['Jb']] = B.dot(dataset['b'] - sum([dataset['A'][:, j].dot(x[j]) for j in Jn]))\n",
    "        \n",
    "        if verbose:\n",
    "            print('\\n===========================================\\n')\n",
    "            print(f'Iteration {it + 1}')\n",
    "            print('\\nStep 2\\n')\n",
    "            print(f'x = {x}')\n",
    "\n",
    "        # Step 3\n",
    "        if np.all(dataset['lower'] < x + eps) and np.all(x - eps < dataset['upper']):\n",
    "            print(f'\\nOptimal plan: {x}\\n')\n",
    "            print(f'cx = {dataset[\"c\"] @ x}')\n",
    "            return\n",
    "\n",
    "        # Step 4\n",
    "        for i in range(len(dataset['Jb'])):\n",
    "            j_i = dataset['Jb'][i]\n",
    "            if dataset['lower'][j_i] > x[j_i] or x[j_i] > dataset['upper'][j_i]:\n",
    "                j_k = i\n",
    "                break\n",
    "        \n",
    "        if verbose:\n",
    "            print('\\nStep 4\\n')\n",
    "            print(f'jk = {dataset[\"Jb\"][j_k]}')\n",
    "\n",
    "        # Step 5\n",
    "        mu_jk = 1 if x[dataset[\"Jb\"][j_k]] < dataset['lower'][dataset[\"Jb\"][j_k]] else -1\n",
    "        delta_y = mu_jk * B[j_k]\n",
    "        mu_j = delta_y @ dataset['A']\n",
    "        \n",
    "        if verbose:\n",
    "            print('\\nStep 5\\n')\n",
    "            print(f'mu_jk = {mu_jk}')\n",
    "            print(f'delta y = {delta_y}')\n",
    "            print(f'mu_j = {mu_j}')\n",
    "\n",
    "        # Step 6\n",
    "        sigma_j = np.array([np.inf] * dataset['c'].shape[0])\n",
    "        for i in Jn_pos:\n",
    "            if mu_j[i] < eps:\n",
    "                sigma_j[i] = -delta_j[i] / mu_j[i]\n",
    "\n",
    "        for i in Jn_neg:\n",
    "            if mu_j[i] > -eps:\n",
    "                sigma_j[i] = -delta_j[i] / mu_j[i]\n",
    "        \n",
    "        j0 = np.argmin(sigma_j)\n",
    "        sigma0 = sigma_j[j0]\n",
    "        # To prevent -inf as sigma0\n",
    "        while sigma0 == -np.inf:\n",
    "            sigma_j[j0] = np.inf\n",
    "            j0 = np.argmin(sigma_j)\n",
    "            sigma0 = sigma_j[j0]\n",
    "        \n",
    "        if verbose:\n",
    "            print('\\nStep 6\\n')\n",
    "            print(f'sigma_j = {sigma_j}')\n",
    "            print(f'j* = {j0}')\n",
    "            print(f'sigma0 = {sigma0}')\n",
    "\n",
    "        # Step 7\n",
    "        if sigma0 == np.inf:\n",
    "            print('\\nSolution does not exist')\n",
    "            return\n",
    "\n",
    "        # Step 8\n",
    "        delta_j += sigma0 * mu_j\n",
    "        dataset['Jb'].pop(j_k)\n",
    "        delta_j[dataset['Jb']] = 0.\n",
    "        dataset['Jb'] = [j0] + dataset['Jb']\n",
    "        # dataset['Jb'].sort()\n",
    "        \n",
    "        if verbose:\n",
    "            print('\\nStep 8\\n')\n",
    "            print(f'New delta j = {delta_j}')\n",
    "            print(f'Jb = {dataset[\"Jb\"]}')\n",
    "        \n",
    "        # Step 9\n",
    "        B = sla.inv(dataset['A'][:, dataset['Jb']])\n",
    "        Jn = [i for i in range(dataset['c'].shape[0]) if i not in dataset['Jb']]\n",
    "        Jn_pos = [i for i in Jn if delta_j[i] > -eps]\n",
    "        Jn_neg = [i for i in Jn if delta_j[i] <= -eps]\n",
    "        \n",
    "        if verbose:\n",
    "            print('\\nStep 9\\n')\n",
    "            print(f'A_b = {dataset[\"A\"][:, dataset[\"Jb\"]]}')\n",
    "            print(f'B = {B}')\n",
    "            print(f'Jn = {Jn}')\n",
    "            print(f'Jn+ = {Jn_pos}')\n",
    "            print(f'Jn- = {Jn_neg}')\n",
    "        \n",
    "    print(f'\\nBest found solution: {x}')"
   ]
  },
  {
   "cell_type": "markdown",
   "id": "wired-stadium",
   "metadata": {},
   "source": [
    "**Задача а)**"
   ]
  },
  {
   "cell_type": "code",
   "execution_count": 148,
   "id": "twenty-graph",
   "metadata": {},
   "outputs": [
    {
     "name": "stdout",
     "output_type": "stream",
     "text": [
      "A_b = [[ 1.  0.  1.  7.]\n",
      " [-1.  1.  1.  1.]\n",
      " [ 1.  1.  4.  2.]\n",
      " [ 1.  0.  3.  1.]]\n",
      "c_b = [12. -6.  4. 23.]\n",
      "B = [[ 0.   -1.    1.   -1.  ]\n",
      " [-0.1  -0.4   1.4  -1.7 ]\n",
      " [-0.05  0.3  -0.3   0.65]\n",
      " [ 0.15  0.1  -0.1   0.05]]\n",
      "Jb = [0, 2, 5, 8]\n",
      "\n",
      "Step 1\n",
      "\n",
      "y = [ 3.85 -6.1   0.1   1.95]\n",
      "delta j = [ 1.77635684e-15  2.00000000e+00  0.00000000e+00  7.80000000e+00\n",
      "  1.15000000e+00  3.55271368e-15 -5.00000000e+00 -3.20000000e+00\n",
      "  7.10542736e-15]\n",
      "Jn = [1, 3, 4, 6, 7]\n",
      "Jn+ = [1, 3, 4]\n",
      "Jn- = [6, 7]\n",
      "\n",
      "===========================================\n",
      "\n",
      "Iteration 1\n",
      "\n",
      "Step 2\n",
      "\n",
      "x = [ 1.5   -4.    13.35   4.    -3.     2.175  4.     4.    -4.025]\n",
      "\n",
      "Step 4\n",
      "\n",
      "jk = 2\n",
      "\n",
      "Step 5\n",
      "\n",
      "mu_jk = -1\n",
      "delta y = [ 0.1  0.4 -1.4  1.7]\n",
      "mu_j = [ 0.00000000e+00 -3.00000000e+00 -1.00000000e+00 -1.22000000e+01\n",
      "  1.90000000e+00  8.88178420e-16 -5.00000000e+00  8.00000000e-01\n",
      "  6.66133815e-16]\n",
      "\n",
      "Step 6\n",
      "\n",
      "sigma_j = [       inf 0.66666667        inf 0.63934426        inf        inf\n",
      "        inf 4.                inf]\n",
      "j* = 3\n",
      "sigma0 = 0.6393442622950818\n",
      "\n",
      "Step 8\n",
      "\n",
      "New delta j = [ 0.          0.08196721 -0.63934426  0.          2.3647541   0.\n",
      " -8.19672131 -2.68852459  0.        ]\n",
      "Jb = [3, 0, 5, 8]\n",
      "\n",
      "Step 9\n",
      "\n",
      "A_b = [[ 2.  1.  1.  7.]\n",
      " [ 3. -1.  1.  1.]\n",
      " [ 0.  1.  4.  2.]\n",
      " [-8.  1.  3.  1.]]\n",
      "B = [[-0.00819672 -0.03278689  0.1147541  -0.13934426]\n",
      " [ 0.04098361 -0.83606557  0.42622951 -0.30327869]\n",
      " [-0.08606557  0.1557377   0.20491803  0.03688525]\n",
      " [ 0.15163934  0.10655738 -0.12295082  0.07786885]]\n",
      "Jn = [1, 2, 4, 6, 7]\n",
      "Jn+ = [1, 4]\n",
      "Jn- = [2, 6, 7]\n",
      "\n",
      "===========================================\n",
      "\n",
      "Iteration 2\n",
      "\n",
      "Step 2\n",
      "\n",
      "x = [-1.51229508 -4.          6.          4.60245902 -3.          4.82581967\n",
      "  4.          4.         -4.1454918 ]\n",
      "\n",
      "Step 4\n",
      "\n",
      "jk = 0\n",
      "\n",
      "Step 5\n",
      "\n",
      "mu_jk = 1\n",
      "delta y = [ 0.04098361 -0.83606557  0.42622951 -0.30327869]\n",
      "mu_j = [ 1.00000000e+00 -1.22950820e+00 -4.09836066e-01  0.00000000e+00\n",
      " -2.21311475e-01  2.22044605e-16  9.50819672e-01 -6.72131148e-01\n",
      " -3.33066907e-16]\n",
      "\n",
      "Step 6\n",
      "\n",
      "sigma_j = [        inf  0.06666667         inf         inf 10.68518519         inf\n",
      "  8.62068966         inf         inf]\n",
      "j* = 1\n",
      "sigma0 = 0.06666666666666367\n",
      "\n",
      "Step 8\n",
      "\n",
      "New delta j = [ 0.06666667  0.         -0.66666667  0.          2.35        0.\n",
      " -8.13333333 -2.73333333  0.        ]\n",
      "Jb = [1, 3, 5, 8]\n",
      "\n",
      "Step 9\n",
      "\n",
      "A_b = [[-1.  2.  1.  7.]\n",
      " [ 2.  3.  1.  1.]\n",
      " [-1.  0.  4.  2.]\n",
      " [-3. -8.  3.  1.]]\n",
      "B = [[-3.33333333e-02  6.80000000e-01 -3.46666667e-01  2.46666667e-01]\n",
      " [-5.55111512e-17 -2.00000000e-01  2.00000000e-01 -2.00000000e-01]\n",
      " [-8.33333333e-02  1.00000000e-01  2.33333333e-01  1.66666667e-02]\n",
      " [ 1.50000000e-01  1.40000000e-01 -1.40000000e-01  9.00000000e-02]]\n",
      "Jn = [0, 2, 4, 6, 7]\n",
      "Jn+ = [0, 4]\n",
      "Jn- = [2, 6, 7]\n",
      "\n",
      "===========================================\n",
      "\n",
      "Iteration 3\n",
      "\n",
      "Step 2\n",
      "\n",
      "x = [-1.         -3.58333333  6.          4.5        -3.          4.79166667\n",
      "  4.          4.         -4.125     ]\n",
      "\n",
      "Step 4\n",
      "\n",
      "jk = 8\n",
      "\n",
      "Step 5\n",
      "\n",
      "mu_jk = 1\n",
      "delta y = [ 0.15  0.14 -0.14  0.09]\n",
      "mu_j = [-4.00000000e-02  2.77555756e-17  0.00000000e+00  1.11022302e-16\n",
      " -1.10000000e-01  0.00000000e+00 -1.20000000e-01  2.40000000e-01\n",
      "  1.00000000e+00]\n",
      "\n",
      "Step 6\n",
      "\n",
      "sigma_j = [ 1.66666667         inf         inf         inf 21.36363636         inf\n",
      "         inf 11.38888889         inf]\n",
      "j* = 0\n",
      "sigma0 = 1.6666666666665915\n",
      "\n",
      "Step 8\n",
      "\n",
      "New delta j = [ 0.          0.         -0.66666667  0.          2.16666667  0.\n",
      " -8.33333333 -2.33333333  1.66666667]\n",
      "Jb = [0, 1, 3, 5]\n",
      "\n",
      "Step 9\n",
      "\n",
      "A_b = [[ 1. -1.  2.  1.]\n",
      " [-1.  2.  3.  1.]\n",
      " [ 1. -1.  0.  4.]\n",
      " [ 1. -3. -8.  3.]]\n",
      "B = [[-3.75       -3.5         3.5        -2.25      ]\n",
      " [-3.08333333 -2.16666667  2.5        -1.58333333]\n",
      " [ 0.75        0.5        -0.5         0.25      ]\n",
      " [ 0.16666667  0.33333333  0.          0.16666667]]\n",
      "Jn = [2, 4, 6, 7, 8]\n",
      "Jn+ = [4, 8]\n",
      "Jn- = [2, 6, 7]\n",
      "\n",
      "===========================================\n",
      "\n",
      "Iteration 4\n",
      "\n",
      "Step 2\n",
      "\n",
      "x = [ 2.125      -1.04166667  6.          3.875      -3.          4.58333333\n",
      "  4.          4.         -4.        ]\n",
      "\n",
      "Step 4\n",
      "\n",
      "jk = 3\n",
      "\n",
      "Step 5\n",
      "\n",
      "mu_jk = 1\n",
      "delta y = [ 0.75  0.5  -0.5   0.25]\n",
      "mu_j = [ 0.    0.    0.    1.   -0.75  0.    0.    1.    5.  ]\n",
      "\n",
      "Step 6\n",
      "\n",
      "sigma_j = [       inf        inf        inf        inf 2.88888889        inf\n",
      "        inf 2.33333333        inf]\n",
      "j* = 7\n",
      "sigma0 = 2.333333333333347\n",
      "\n",
      "Step 8\n",
      "\n",
      "New delta j = [ 0.          0.         -0.66666667  2.33333333  0.41666667  0.\n",
      " -8.33333333  0.         13.33333333]\n",
      "Jb = [7, 0, 1, 5]\n",
      "\n",
      "Step 9\n",
      "\n",
      "A_b = [[ 1.  1. -1.  1.]\n",
      " [ 1. -1.  2.  1.]\n",
      " [ 1.  1. -1.  4.]\n",
      " [ 1.  1. -3.  3.]]\n",
      "B = [[ 0.75        0.5        -0.5         0.25      ]\n",
      " [ 0.75       -0.5         0.5        -0.75      ]\n",
      " [ 0.16666667  0.          0.33333333 -0.5       ]\n",
      " [-0.33333333  0.          0.33333333  0.        ]]\n",
      "Jn = [2, 3, 4, 6, 8]\n",
      "Jn+ = [3, 4, 8]\n",
      "Jn- = [2, 6]\n",
      "\n",
      "===========================================\n",
      "\n",
      "Iteration 5\n",
      "\n",
      "Step 2\n",
      "\n",
      "x = [ 1.375      -1.58333333  6.          4.         -3.          4.66666667\n",
      "  4.          3.875      -4.        ]\n",
      "\n",
      "Optimal plan: [ 1.375      -1.58333333  6.          4.         -3.          4.66666667\n",
      "  4.          3.875      -4.        ]\n",
      "\n",
      "cx = -148.20833333333331\n"
     ]
    },
    {
     "name": "stderr",
     "output_type": "stream",
     "text": [
      "/home/pineapple/.local/lib/python3.6/site-packages/ipykernel_launcher.py:76: RuntimeWarning: divide by zero encountered in double_scalars\n"
     ]
    }
   ],
   "source": [
    "solve(dataset)"
   ]
  },
  {
   "cell_type": "markdown",
   "id": "measured-passport",
   "metadata": {},
   "source": [
    "**Задача б)**"
   ]
  },
  {
   "cell_type": "code",
   "execution_count": 149,
   "id": "productive-design",
   "metadata": {},
   "outputs": [
    {
     "name": "stdout",
     "output_type": "stream",
     "text": [
      "\n",
      "Optimal plan: [ 1.375      -1.58333333  6.          4.         -3.          4.66666667\n",
      "  4.          3.875      -4.        ]\n",
      "\n",
      "cx = -148.20833333333331\n"
     ]
    },
    {
     "name": "stderr",
     "output_type": "stream",
     "text": [
      "/home/pineapple/.local/lib/python3.6/site-packages/ipykernel_launcher.py:76: RuntimeWarning: divide by zero encountered in double_scalars\n"
     ]
    }
   ],
   "source": [
    "solve(dataset_b, verbose=False)"
   ]
  },
  {
   "cell_type": "markdown",
   "id": "expanded-rugby",
   "metadata": {},
   "source": [
    "**Задача в)**"
   ]
  },
  {
   "cell_type": "code",
   "execution_count": 152,
   "id": "parallel-crystal",
   "metadata": {},
   "outputs": [
    {
     "name": "stdout",
     "output_type": "stream",
     "text": [
      "\n",
      "Solution does not exist\n"
     ]
    },
    {
     "name": "stderr",
     "output_type": "stream",
     "text": [
      "/home/pineapple/.local/lib/python3.6/site-packages/ipykernel_launcher.py:72: RuntimeWarning: divide by zero encountered in double_scalars\n"
     ]
    }
   ],
   "source": [
    "solve(dataset_c, verbose=False)"
   ]
  },
  {
   "cell_type": "markdown",
   "id": "behind-johnston",
   "metadata": {},
   "source": [
    "**Задача г)**"
   ]
  },
  {
   "cell_type": "code",
   "execution_count": 153,
   "id": "affecting-coffee",
   "metadata": {},
   "outputs": [
    {
     "name": "stdout",
     "output_type": "stream",
     "text": [
      "\n",
      "Optimal plan: [ 0.33653846  0.         -1.          4.17307692 -3.          7.11538462\n",
      "  4.          3.70192308 -4.        ]\n",
      "\n",
      "cx = -153.2788461538462\n"
     ]
    },
    {
     "name": "stderr",
     "output_type": "stream",
     "text": [
      "/home/pineapple/.local/lib/python3.6/site-packages/ipykernel_launcher.py:76: RuntimeWarning: divide by zero encountered in double_scalars\n"
     ]
    }
   ],
   "source": [
    "solve(dataset_d, verbose=False)"
   ]
  }
 ],
 "metadata": {
  "kernelspec": {
   "display_name": "Python 3",
   "language": "python",
   "name": "python3"
  },
  "language_info": {
   "codemirror_mode": {
    "name": "ipython",
    "version": 3
   },
   "file_extension": ".py",
   "mimetype": "text/x-python",
   "name": "python",
   "nbconvert_exporter": "python",
   "pygments_lexer": "ipython3",
   "version": "3.6.9"
  }
 },
 "nbformat": 4,
 "nbformat_minor": 5
}
