{
 "cells": [
  {
   "cell_type": "markdown",
   "metadata": {},
   "source": [
    "# Task 1"
   ]
  },
  {
   "cell_type": "code",
   "execution_count": 1,
   "metadata": {},
   "outputs": [],
   "source": [
    "import numpy as np\n",
    "import scipy.linalg as sla"
   ]
  },
  {
   "cell_type": "code",
   "execution_count": 35,
   "metadata": {},
   "outputs": [],
   "source": [
    "def solve(matrix, vector, pos):\n",
    "    alpha = matrix[pos].dot(vector)\n",
    "    if np.abs(alpha) < 1e-9:\n",
    "        return\n",
    "    size = matrix.shape[0]\n",
    "    d = np.eye(size)\n",
    "    z = matrix.dot(vector)\n",
    "    kth = z[pos]\n",
    "    z[pos] = -1\n",
    "    z = -z / kth\n",
    "    d[:, pos] = z\n",
    "    return d @ matrix\n",
    "\n",
    "\n",
    "def check(matrix, solution):\n",
    "    print(matrix @ solution)\n",
    "    return sla.norm(sla.inv(matrix) - solution, 'fro')\n"
   ]
  },
  {
   "cell_type": "code",
   "execution_count": 3,
   "metadata": {},
   "outputs": [
    {
     "name": "stdout",
     "output_type": "stream",
     "text": [
      "[[ 1.00000000e+00 -5.55111512e-17  0.00000000e+00]\n",
      " [ 1.77635684e-15  1.00000000e+00  1.11022302e-16]\n",
      " [ 3.55271368e-15 -4.99600361e-16  1.00000000e+00]]\n"
     ]
    },
    {
     "data": {
      "text/plain": [
       "1.5740127955196998e-15"
      ]
     },
     "execution_count": 3,
     "metadata": {},
     "output_type": "execute_result"
    }
   ],
   "source": [
    "matrix = np.array([[1, 2, 1], [4, 6, 6], [7, 8, 9]])\n",
    "vector = np.array([1, 4, 9])\n",
    "c_ = matrix.copy()\n",
    "pos = 1\n",
    "c_[:, pos] = vector\n",
    "result = solve(sla.inv(matrix), vector, pos)\n",
    "\n",
    "check(c_, result)\n"
   ]
  },
  {
   "cell_type": "markdown",
   "metadata": {},
   "source": [
    "# Task 2"
   ]
  },
  {
   "cell_type": "code",
   "execution_count": 37,
   "metadata": {},
   "outputs": [],
   "source": [
    "def find_inverse(matrix):\n",
    "    size = matrix.shape[0]\n",
    "    J = set(range(size))\n",
    "    B = np.eye(size)\n",
    "    s = [0] * size\n",
    "    for i in range(size):\n",
    "        singular = True\n",
    "        for j in J:\n",
    "            curr = solve(B, matrix[j], i)\n",
    "            if curr is not None:\n",
    "                singular = False\n",
    "                J.remove(j)\n",
    "                B = curr\n",
    "                s[j] = i\n",
    "                break\n",
    "        \n",
    "        if singular:\n",
    "            print(\"Singular matrix\")\n",
    "            return\n",
    "    \n",
    "    print(s)\n",
    "    \n",
    "    result = np.eye(size)\n",
    "    for i in range(size):\n",
    "        result[i] = B[s[i]]\n",
    "        \n",
    "    return result.transpose()"
   ]
  },
  {
   "cell_type": "code",
   "execution_count": 42,
   "metadata": {},
   "outputs": [
    {
     "name": "stdout",
     "output_type": "stream",
     "text": [
      "[0, 1, 2, 3]\n",
      "[[ 0.5  -0.75 -0.5   0.25]\n",
      " [ 1.5  -2.25 -0.5   0.75]\n",
      " [-1.5   2.75  0.5  -1.25]\n",
      " [ 5.   -7.5  -1.    3.5 ]]\n",
      "[[ 1.00000000e+00  0.00000000e+00  0.00000000e+00  0.00000000e+00]\n",
      " [-8.88178420e-16  1.00000000e+00  0.00000000e+00 -4.44089210e-16]\n",
      " [ 2.22044605e-16 -8.88178420e-16  1.00000000e+00  4.44089210e-16]\n",
      " [ 0.00000000e+00  0.00000000e+00  0.00000000e+00  1.00000000e+00]]\n",
      "2.8705223695464124e-15\n"
     ]
    }
   ],
   "source": [
    "# matrix = np.array([[1, 2, 1, 52], [4, 6, 6, 3], [7, 8, 9, 147], [3, 3, 3, 3]])\n",
    "# matrix = np.array([[0, 2, 1], [0, 1, 1], [1, 1, 1]])\n",
    "# matrix = np.array([[1, 2, 3], [4, 5, 6], [7, 8, 9]])\n",
    "eps = 2\n",
    "matrix = np.array([[1, 0, 1 + eps, 1],\n",
    "                 [2, -2, eps, 1],\n",
    "                 [-3, 1, -2 + eps, 0],\n",
    "                 [2, -4, -2 + eps, 1]])\n",
    "# eps = 0 - singualr, otherwise det != 0, проверка на погрешность\n",
    "# matrix = np.array([[0, 0, 4, 3], [0, 0, 0, 1], [0, 2, 0, 0], [1, 1, 0, 0]])\n",
    "# non-singular\n",
    "# x = 82\n",
    "# matrix = np.array([[1, 8, 6, -3, 2],\n",
    "#                   [4, -3, -5, 1, 0],\n",
    "#                   [-8, 2, 6, -27, 81],\n",
    "#                   [6, -4, 8, 5, 3],\n",
    "#                  [-2, -2, 14, -22, x]])\n",
    "\n",
    "# matrix = np.array([[1, 0, 0, -1, -1],\n",
    "#                  [-1, -1, 0, 0, 0],\n",
    "#                  [0, 0, 0, 1, 1],\n",
    "#                  [0, 1, 1, 0, 0],\n",
    "#                  [0, 0, -1, 0, 0]])\n",
    "result = find_inverse(matrix)\n",
    "print(result)\n",
    "if result is not None:\n",
    "    print(check(matrix, result))"
   ]
  }
 ],
 "metadata": {
  "kernelspec": {
   "display_name": "Python 3",
   "language": "python",
   "name": "python3"
  },
  "language_info": {
   "codemirror_mode": {
    "name": "ipython",
    "version": 3
   },
   "file_extension": ".py",
   "mimetype": "text/x-python",
   "name": "python",
   "nbconvert_exporter": "python",
   "pygments_lexer": "ipython3",
   "version": "3.6.9"
  }
 },
 "nbformat": 4,
 "nbformat_minor": 4
}
