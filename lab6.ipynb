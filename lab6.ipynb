{
 "cells": [
  {
   "cell_type": "markdown",
   "id": "faced-profession",
   "metadata": {},
   "source": [
    "# Задачи выпуклого программирования\n",
    "## Выполнил: Яковлев Артур, 853501\n",
    "## Проверила: Костюкова О.И."
   ]
  },
  {
   "cell_type": "code",
   "execution_count": 1,
   "id": "married-tournament",
   "metadata": {},
   "outputs": [],
   "source": [
    "import numpy as np\n",
    "import scipy.linalg as sla\n",
    "\n",
    "from copy import deepcopy"
   ]
  },
  {
   "cell_type": "markdown",
   "id": "black-rochester",
   "metadata": {},
   "source": [
    "### Вариант 7"
   ]
  },
  {
   "cell_type": "markdown",
   "id": "indonesian-milwaukee",
   "metadata": {},
   "source": [
    "$$\n",
    "\\begin{equation}\n",
    "    \\begin{cases}\n",
    "        f(x) = x_1^2 + x_2^2 + 16x_2^3 - 2x_1 x_2 + 8x_1x_3 - 8x_2x_3 \\rightarrow min\\\\\n",
    "        x_1 - x_2 + 4x_3 \\leq 4\\\\\n",
    "        x_1^2 - 2x_1 x_3 + 4x_3^2 \\leq 3\n",
    "    \\end{cases}\n",
    "\\end{equation}\n",
    "$$\n",
    "\n",
    "$ g_1(x) = x_1 - x_2 + 4x_3 - 4 $\n",
    "\n",
    "$ g_2(x) = x_1^2 - 2x_1 x_3 + 4x_3^2 - 3 $\n",
    "\n",
    "$ x = \\begin{pmatrix}\n",
    "           1 \\\\\n",
    "           1 \\\\\n",
    "           1\n",
    "         \\end{pmatrix}$\n",
    "         \n",
    "Проверим, является ли данный план допустимым\n",
    "\n",
    "$ g_1(x) = 1 - 1 + 4 - 4 = 0 \\leq 0 $\n",
    "\n",
    "$ g_2(x) = 1 - 2 + 4 - 3 = 0 \\leq 0 $\n",
    "\n",
    "Таким образом план допустимый\n",
    "\n",
    "Найдем частные производные для $f(x)$\n",
    "\n",
    "$ \\frac{\\partial f}{\\partial x_1} = 2x_1 - 2x_2 + 8x_3 $\n",
    "\n",
    "$ \\frac{\\partial f}{\\partial x_2} = 2x_2 + 48x_2^2 - 2x_1 - 8x_3 $\n",
    "\n",
    "$ \\frac{\\partial f}{\\partial x_3} = 8x_1 - 8x_2 $\n",
    "\n",
    "Получаем:\n",
    "\n",
    "$$\n",
    "\\frac{\\partial f}{\\partial x} = \\begin{pmatrix}\n",
    "           2x_1 - 2x_2 + 8x_3 \\\\\n",
    "           2x_2 + 48x_2^2 - 2x_1 - 8x_3 \\\\\n",
    "           8x_1 - 8x_2\n",
    "         \\end{pmatrix}\n",
    "$$\n",
    "\n",
    "Частные производные для $g_1$ и $g_2$\n",
    "\n",
    "$$\n",
    "\\frac{\\partial g_1}{\\partial x} =  \\begin{pmatrix}\n",
    "           1 \\\\\n",
    "           -1 \\\\\n",
    "           4\n",
    "         \\end{pmatrix}\n",
    "$$\n",
    "\n",
    "$$\n",
    "\\frac{\\partial g_2}{\\partial x} =  \\begin{pmatrix}\n",
    "           2x_1 - 2x_3 \\\\\n",
    "           0 \\\\\n",
    "           -2x_1 + 8x_3\n",
    "         \\end{pmatrix}\n",
    "$$\n",
    "\n",
    "Теперь подставим наш вектор $x$ в полученные выражения\n",
    "\n",
    "$$\n",
    "\\frac{\\partial f}{\\partial x} = \\begin{pmatrix}\n",
    "           8 \\\\\n",
    "           40 \\\\\n",
    "           0\n",
    "         \\end{pmatrix}\n",
    "$$\n",
    "\n",
    "$$\n",
    "\\frac{\\partial g_1}{\\partial x} =  \\begin{pmatrix}\n",
    "           1 \\\\\n",
    "           -1 \\\\\n",
    "           4\n",
    "         \\end{pmatrix}\n",
    "$$\n",
    "\n",
    "$$\n",
    "\\frac{\\partial g_2}{\\partial x} =  \\begin{pmatrix}\n",
    "           0 \\\\\n",
    "           0 \\\\\n",
    "           6\n",
    "         \\end{pmatrix}\n",
    "$$\n",
    "\n",
    "Теперь попробуем найти значения $\\lambda_1$ и $\\lambda_2$ для данного плана\n",
    "\n",
    "$$\n",
    "\\begin{pmatrix}\n",
    "8 \\\\\n",
    "40 \\\\\n",
    "0\n",
    "\\end{pmatrix} + \\lambda_1 \n",
    "\\begin{pmatrix}\n",
    "1 \\\\\n",
    "-1 \\\\\n",
    "4\n",
    "\\end{pmatrix} + \\lambda_2 \n",
    "\\begin{pmatrix}\n",
    "0 \\\\\n",
    "0 \\\\\n",
    "6\n",
    "\\end{pmatrix} = \n",
    "\\begin{pmatrix}\n",
    "0 \\\\\n",
    "0 \\\\\n",
    "0\n",
    "\\end{pmatrix}\n",
    "$$\n",
    "\n",
    "$$\n",
    "\\begin{equation}\n",
    "    \\begin{cases}\n",
    "        1 \\cdot \\lambda_1 + 0 \\cdot \\lambda_2 = -8\\\\\n",
    "        -1 \\cdot \\lambda_1 + 0 \\cdot \\lambda_2 = -40\\\\\n",
    "        4 \\lambda_1 + 6 \\lambda_2 = 0\n",
    "    \\end{cases}\n",
    "\\end{equation}\n",
    "$$\n",
    "\n",
    "Данная система не имеет решений, так как из первых двух уравнений имеем $\\lambda_1 = -8$ и $\\lambda_1 = 40$, что невозможно. Поэтому план $x$ не является оптимальным."
   ]
  },
  {
   "cell_type": "markdown",
   "id": "cross-wagon",
   "metadata": {},
   "source": [
    "### Вариант 4"
   ]
  },
  {
   "cell_type": "markdown",
   "id": "amateur-integral",
   "metadata": {},
   "source": [
    "Исходные данные для выбранного варианта задания"
   ]
  },
  {
   "cell_type": "code",
   "execution_count": 2,
   "id": "uniform-worship",
   "metadata": {},
   "outputs": [],
   "source": [
    "dataset = {\n",
    "    'B': [\n",
    "        np.array([\n",
    "            [1., 4., -3., 6., 3., 1., 0., -1.],\n",
    "            [0., 2., 1., -1., 0., 6., 2., 4.],\n",
    "        ]),\n",
    "        np.array([\n",
    "            [0., 0., 0.5, 0., -1., 0.5, 0., -2.],\n",
    "            [0.5, 0., -0.5, 0., 0.5, -0.5, -0.5, -0.5],\n",
    "            [0.5, 0.5, 0.5, 0., 0.5, 0., 2.5, 4.],\n",
    "        ]),\n",
    "        np.array([\n",
    "            [1., 2., -1.5, 3., -2.5, 0., -1., -0.5],\n",
    "            [-1.5, -0.5, -1., -2.5, 3.5, -3., -1.5, -0.5],\n",
    "            [1.5, 2.5, -1., 1., 2.5, 1.5, 3., 0.]\n",
    "        ]),\n",
    "        np.array([\n",
    "            [0.75, 0.5, 1., 0.25, 0.25, 0., 0.25, 0.75],\n",
    "            [-1., 1., 4., 0.75, -0.75, 0.5, 8., -0.75],\n",
    "            [0.5, -0.25, 0.5, 0.75, 0.5, 1.25, -0.75, -0.25]\n",
    "        ]),\n",
    "        np.array([\n",
    "            [2.5, -1.5, -1.5, 2., 1.5, 0., 0.5, -1.5],\n",
    "            [-0.5, -2.5, -0.5, -6., -2.5, 4.5, 1., 1.],\n",
    "            [-2.5, 1., -2., -1.5, -2.5, 0.5, 8.5, -2.5],\n",
    "        ]),\n",
    "        np.array([\n",
    "            [1., 0.25, -0.5, 0., 1.25, -0.5, 0.25, -0.75],\n",
    "            [-1., -0.75, -0.75, 0.5, -0.25, -1.25, 0.25, -0.5],\n",
    "            [0., 0.75, 0.5, -0.5, -1., 1., -1., 1.],\n",
    "        ]),\n",
    "    ],\n",
    "    'c': [\n",
    "        np.array([-2., -4., -1., -1., -2., 0., -3., -3.]),\n",
    "        np.array([60., 0., 80., 0., 0., 0., 40., 0.]),\n",
    "        np.array([2., 0., 3., 2., 2., 0., 3., 0.]),\n",
    "        np.array([0., 0., 80., 0., 0., 0., 0., 0.]),\n",
    "        np.array([0., -2., 1., 2., 0., 0., -2., 1.]),\n",
    "        np.array([-4., -2., 6., 0., 4., -2., 60., 2.]),\n",
    "    ],\n",
    "    'a': np.array([0., -84.25, -158.75, -126.5625, -117.625, -17.8125]),\n",
    "}\n",
    "\n",
    "eps = 1e-9\n",
    "x = np.array([0., 3., 1., 1., 0., 2., 0., 0.])"
   ]
  },
  {
   "cell_type": "markdown",
   "id": "chicken-metallic",
   "metadata": {},
   "source": [
    "Далее заметим, что произведение $B_i^T \\cdot B_i$ является квадратной симметричной матрицей. Это позволяет упростить вычисление производных по вектору $x$ для функций $f(x)$ и $g_i(x)$.\n",
    "\n",
    "Воспользуемся формулой матричного дифференцирования для выражения $x^TAx$.\n",
    "\n",
    "$$\n",
    "\\frac{\\partial x^TAx}{\\partial x} = (A^T + A)x\n",
    "$$\n",
    "\n",
    "Для симметричной $A$ получаем $\\frac{\\partial x^TAx}{\\partial x} = 2Ax$. Далее известно, что $\\frac{\\partial cx}{\\partial x} = c$. Теперь запишем формулы производных для функций $f$ и $g_i$\n",
    "\n",
    "$$\n",
    "\\frac{\\partial f}{\\partial x} = (B^T_0 B_0)x + c_0\n",
    "$$\n",
    "\n",
    "$$\n",
    "\\frac{\\partial g_i}{\\partial x} = (B^T_i B_i)x + c_i\n",
    "$$"
   ]
  },
  {
   "cell_type": "code",
   "execution_count": 3,
   "id": "bigger-midnight",
   "metadata": {},
   "outputs": [],
   "source": [
    "class Solver:\n",
    "    def __init__(self, dataset):\n",
    "        self.B = [B.T @ B for B in dataset['B']]\n",
    "        self.c = deepcopy(dataset['c'])\n",
    "        self.alpha = deepcopy(dataset['a'])\n",
    "        self.count = len(self.B)\n",
    "        self.g = lambda x, i: 0.5 * x @ self.B[i] @ x + self.c[i] @ x + self.alpha[i]\n",
    "        self.partial_g = lambda x, i: self.B[i] @ x + self.c[i]\n",
    "    \n",
    "    def is_valid(self, x):\n",
    "        for i in range(1, self.count):\n",
    "            if self.g(x, i) > eps:\n",
    "                return False\n",
    "        return True\n",
    "    \n",
    "    def is_optimal(self, x):\n",
    "        A = np.stack([self.partial_g(x, i) for i in range(1, self.count)]).T\n",
    "        b = self.partial_g(x, 0)\n",
    "        result = sla.lstsq(A, -b)\n",
    "        solution, error = result[0], result[1]\n",
    "        if np.sum(error) > eps or np.any(np.solution < eps):\n",
    "            return None\n",
    "        return solution"
   ]
  },
  {
   "cell_type": "code",
   "execution_count": 4,
   "id": "clinical-ordinance",
   "metadata": {},
   "outputs": [],
   "source": [
    "solver = Solver(dataset)"
   ]
  },
  {
   "cell_type": "markdown",
   "id": "conditional-precipitation",
   "metadata": {},
   "source": [
    "Проверим, является ли план $x$ допустимым"
   ]
  },
  {
   "cell_type": "code",
   "execution_count": 5,
   "id": "electronic-peeing",
   "metadata": {},
   "outputs": [
    {
     "data": {
      "text/plain": [
       "True"
      ]
     },
     "execution_count": 5,
     "metadata": {},
     "output_type": "execute_result"
    }
   ],
   "source": [
    "solver.is_valid(x)"
   ]
  },
  {
   "cell_type": "markdown",
   "id": "breathing-belize",
   "metadata": {},
   "source": [
    "Для поиска оптимального плана нам необходимы массивы $J_0 = \\{j \\in J = \\{0, 1, \\dots, 7\\} : x_j = 0 \\}$ и $I_0 = \\{i \\in I: g_i(x) = 0 \\}$. Найдем данные массивы"
   ]
  },
  {
   "cell_type": "code",
   "execution_count": 6,
   "id": "apart-trading",
   "metadata": {},
   "outputs": [
    {
     "name": "stdout",
     "output_type": "stream",
     "text": [
      "I = [1, 3, 5]\n"
     ]
    }
   ],
   "source": [
    "I = [i for i in range(1, len(solver.B)) if np.abs(solver.g(x, i)) < eps]\n",
    "print(f'I = {I}')"
   ]
  },
  {
   "cell_type": "code",
   "execution_count": 7,
   "id": "negative-salad",
   "metadata": {},
   "outputs": [
    {
     "data": {
      "text/plain": [
       "array([0, 4, 6, 7])"
      ]
     },
     "execution_count": 7,
     "metadata": {},
     "output_type": "execute_result"
    }
   ],
   "source": [
    "J_0 = np.argwhere(np.abs(x) < eps).ravel()\n",
    "J_0"
   ]
  },
  {
   "cell_type": "markdown",
   "id": "arctic-justice",
   "metadata": {},
   "source": [
    "В таком случае нам необходимо решить задачу\n",
    "\n",
    "$$\n",
    "\\begin{equation}\n",
    "    \\begin{cases}\n",
    "        \\left(l, \\frac{\\partial f}{\\partial x}\\right) \\rightarrow min \\\\\n",
    "        \\left(l, \\frac{\\partial g_i}{\\partial x}\\right) \\leq 0, i \\in I \\\\\n",
    "        l_j \\geq 0, j \\in J \\\\\n",
    "        |l_j| \\leq 1, j \\in J\n",
    "    \\end{cases}\n",
    "\\end{equation}\n",
    "$$"
   ]
  },
  {
   "cell_type": "markdown",
   "id": "agreed-philip",
   "metadata": {},
   "source": [
    "Преобразуем данную задачу для решения симплекс методом\n",
    "\n",
    "$$\n",
    "A = \\begin{pmatrix}\n",
    "           \\frac{\\partial g_1}{\\partial x} \\\\\n",
    "           \\frac{\\partial g_1}{\\partial x} \\\\\n",
    "           \\frac{\\partial g_1}{\\partial x}\n",
    "     \\end{pmatrix}\n",
    "$$\n",
    "\n",
    "$$\n",
    "c = -\\frac{\\partial f}{\\partial x}\n",
    "$$\n",
    "\n",
    "$$\n",
    "b = \\begin{pmatrix}\n",
    "           0 \\\\\n",
    "           0 \\\\\n",
    "           0\n",
    "     \\end{pmatrix}\n",
    "$$\n",
    "\n",
    "$$\n",
    "d_* = \\begin{pmatrix} 0 \\\\ -1 \\\\ -1 \\\\ -1 \\\\ 0 \\\\ -1 \\\\ 0 \\\\ 0 \\end{pmatrix}, \n",
    "d^* = \\begin{pmatrix} 1 \\\\ 1 \\\\ 1 \\\\ 1 \\\\ 1 \\\\ 1 \\\\ 1 \\\\ 1 \\end{pmatrix}\n",
    "$$\n",
    "\n",
    "$$\n",
    "\\begin{equation}\n",
    "    \\begin{cases}\n",
    "        cl \\rightarrow max \\\\\n",
    "        Al \\leq b \\\\\n",
    "        d_* \\leq l \\leq d^*\n",
    "    \\end{cases}\n",
    "\\end{equation}\n",
    "$$"
   ]
  },
  {
   "cell_type": "code",
   "execution_count": 8,
   "id": "marked-tsunami",
   "metadata": {},
   "outputs": [],
   "source": [
    "A = np.stack([solver.partial_g(x, i) for i in I])\n",
    "b = np.zeros(A.shape[0], dtype='float64')\n",
    "c = -solver.partial_g(x, 0)\n",
    "lower = np.array([-1 if x[i] > eps else 0 for i in range(x.shape[0])], dtype='float64')\n",
    "upper = np.ones(x.shape[0], dtype='float64')"
   ]
  },
  {
   "cell_type": "code",
   "execution_count": 9,
   "id": "fatal-travel",
   "metadata": {},
   "outputs": [],
   "source": [
    "def solve(data, max_iters=200, verbose=True):\n",
    "    dataset = deepcopy(data)\n",
    "    B = sla.inv(dataset['A'][:, dataset['Jb']])\n",
    "    \n",
    "    if verbose:\n",
    "        print(f'A_b = {dataset[\"A\"][:, dataset[\"Jb\"]]}')\n",
    "        print(f'c_b = {dataset[\"c\"][dataset[\"Jb\"]]}')\n",
    "        print(f'B = {B}')\n",
    "        print(f'Jb = {dataset[\"Jb\"]}')\n",
    "    \n",
    "    # Step 1\n",
    "    y = dataset['c'][dataset['Jb']] @ B\n",
    "    delta_j = y @ dataset['A'] - dataset['c']\n",
    "    Jn = [i for i in range(dataset['c'].shape[0]) if i not in dataset['Jb']]\n",
    "    Jn_pos = [i for i in Jn if delta_j[i] > -eps]\n",
    "    Jn_neg = [i for i in Jn if delta_j[i] <= -eps]\n",
    "    \n",
    "    if verbose:\n",
    "        print('\\nStep 1\\n')\n",
    "        print(f'y = {y}')\n",
    "        print(f'delta j = {delta_j}')\n",
    "        print(f'Jn = {Jn}')\n",
    "        print(f'Jn+ = {Jn_pos}')\n",
    "        print(f'Jn- = {Jn_neg}')\n",
    "    \n",
    "    for it in range(max_iters):\n",
    "        # Step 2\n",
    "        x = np.zeros(dataset['c'].shape[0])\n",
    "        x[Jn_pos] = dataset['lower'][Jn_pos]\n",
    "        x[Jn_neg] = dataset['upper'][Jn_neg]\n",
    "        x[dataset['Jb']] = B.dot(dataset['b'] - np.sum(dataset['A'][:, Jn] * x[Jn], axis=1))\n",
    "        # x[dataset['Jb']] = B.dot(dataset['b'] - sum([dataset['A'][:, j].dot(x[j]) for j in Jn]))\n",
    "        \n",
    "        if verbose:\n",
    "            print('\\n===========================================\\n')\n",
    "            print(f'Iteration {it + 1}')\n",
    "            print('\\nStep 2\\n')\n",
    "            print(f'x = {x}')\n",
    "\n",
    "        # Step 3\n",
    "        if np.all(dataset['lower'] < x + eps) and np.all(x - eps < dataset['upper']):\n",
    "            print(f'\\nOptimal plan: {x}\\n')\n",
    "            print(f'cx = {-dataset[\"c\"] @ x}')\n",
    "            return x\n",
    "\n",
    "        # Step 4\n",
    "        for i in range(len(dataset['Jb'])):\n",
    "            j_i = dataset['Jb'][i]\n",
    "            if dataset['lower'][j_i] > x[j_i] or x[j_i] > dataset['upper'][j_i]:\n",
    "                j_k = i\n",
    "                break\n",
    "        \n",
    "        if verbose:\n",
    "            print('\\nStep 4\\n')\n",
    "            print(f'jk = {dataset[\"Jb\"][j_k]}')\n",
    "\n",
    "        # Step 5\n",
    "        mu_jk = 1 if x[dataset[\"Jb\"][j_k]] < dataset['lower'][dataset[\"Jb\"][j_k]] else -1\n",
    "        delta_y = mu_jk * B[j_k]\n",
    "        mu_j = delta_y @ dataset['A']\n",
    "        \n",
    "        if verbose:\n",
    "            print('\\nStep 5\\n')\n",
    "            print(f'mu_jk = {mu_jk}')\n",
    "            print(f'delta y = {delta_y}')\n",
    "            print(f'mu_j = {mu_j}')\n",
    "\n",
    "        # Step 6\n",
    "        sigma_j = np.array([np.inf] * dataset['c'].shape[0])\n",
    "        for i in Jn_pos:\n",
    "            if mu_j[i] < eps:\n",
    "                sigma_j[i] = -delta_j[i] / mu_j[i]\n",
    "\n",
    "        for i in Jn_neg:\n",
    "            if mu_j[i] > -eps:\n",
    "                sigma_j[i] = -delta_j[i] / mu_j[i]\n",
    "        \n",
    "        j0 = np.argmin(sigma_j)\n",
    "        sigma0 = sigma_j[j0]\n",
    "        # To prevent -inf as sigma0\n",
    "        while sigma0 == -np.inf:\n",
    "            sigma_j[j0] = np.inf\n",
    "            j0 = np.argmin(sigma_j)\n",
    "            sigma0 = sigma_j[j0]\n",
    "        \n",
    "        if verbose:\n",
    "            print('\\nStep 6\\n')\n",
    "            print(f'sigma_j = {sigma_j}')\n",
    "            print(f'j* = {j0}')\n",
    "            print(f'sigma0 = {sigma0}')\n",
    "\n",
    "        # Step 7\n",
    "        if sigma0 == np.inf:\n",
    "            print('\\nSolution does not exist')\n",
    "            return\n",
    "\n",
    "        # Step 8\n",
    "        delta_j += sigma0 * mu_j\n",
    "        dataset['Jb'].pop(j_k)\n",
    "        delta_j[dataset['Jb']] = 0.\n",
    "        dataset['Jb'] = [j0] + dataset['Jb']\n",
    "        # dataset['Jb'].sort()\n",
    "        \n",
    "        if verbose:\n",
    "            print('\\nStep 8\\n')\n",
    "            print(f'New delta j = {delta_j}')\n",
    "            print(f'Jb = {dataset[\"Jb\"]}')\n",
    "        \n",
    "        # Step 9\n",
    "        B = sla.inv(dataset['A'][:, dataset['Jb']])\n",
    "        Jn = [i for i in range(dataset['c'].shape[0]) if i not in dataset['Jb']]\n",
    "        Jn_pos = [i for i in Jn if delta_j[i] > -eps]\n",
    "        Jn_neg = [i for i in Jn if delta_j[i] <= -eps]\n",
    "        \n",
    "        if verbose:\n",
    "            print('\\nStep 9\\n')\n",
    "            print(f'A_b = {dataset[\"A\"][:, dataset[\"Jb\"]]}')\n",
    "            print(f'B = {B}')\n",
    "            print(f'Jn = {Jn}')\n",
    "            print(f'Jn+ = {Jn_pos}')\n",
    "            print(f'Jn- = {Jn_neg}')\n",
    "        \n",
    "    print(f'\\nBest found solution: {x}')"
   ]
  },
  {
   "cell_type": "code",
   "execution_count": 10,
   "id": "virtual-acquisition",
   "metadata": {},
   "outputs": [
    {
     "name": "stdout",
     "output_type": "stream",
     "text": [
      "\n",
      "Optimal plan: [ 0.         -0.54347422 -0.15935912  1.          0.         -1.\n",
      "  0.33203502  0.        ]\n",
      "\n",
      "cx = -79.97205638220197\n"
     ]
    }
   ],
   "source": [
    "l = solve({\n",
    "    'A': A,\n",
    "    'b': b,\n",
    "    'c': c,\n",
    "    'upper': upper,\n",
    "    \n",
    "    'lower': lower,\n",
    "    'Jb': [0, 4, 6],\n",
    "}, verbose=False)"
   ]
  },
  {
   "cell_type": "markdown",
   "id": "boxed-newton",
   "metadata": {},
   "source": [
    "Так как значение целевой функции меньше 0, значит план $x$ не является оптимальным. Построим новый план, взяв в качестве начального $\\overline{x} = (0, 0, 0, 0, 0, 0, 0, 0)$. Построим новый план в виде $x(t) = x + t(1^0 + \\alpha \\Delta x), \\Delta x = \\overline{x} - x$"
   ]
  },
  {
   "cell_type": "markdown",
   "id": "english-alaska",
   "metadata": {},
   "source": [
    "Подберем $\\alpha > 0$, чтобы выполнялось нервенство:\n",
    "\n",
    "$$\n",
    "\\frac{\\partial f}{\\partial x}l + \\alpha \\frac{\\partial f}{\\partial x} \\Delta x < 0\n",
    "$$"
   ]
  },
  {
   "cell_type": "code",
   "execution_count": 11,
   "id": "latest-conservative",
   "metadata": {},
   "outputs": [
    {
     "data": {
      "text/plain": [
       "-3074.972056382202"
      ]
     },
     "execution_count": 11,
     "metadata": {},
     "output_type": "execute_result"
    }
   ],
   "source": [
    "solver.partial_g(x, 0) @ l + 5 * solver.partial_g(x, 0) @ (-x)"
   ]
  },
  {
   "cell_type": "code",
   "execution_count": 15,
   "id": "driving-michael",
   "metadata": {},
   "outputs": [
    {
     "data": {
      "text/plain": [
       "-2995.0"
      ]
     },
     "execution_count": 15,
     "metadata": {},
     "output_type": "execute_result"
    }
   ],
   "source": [
    "5 * solver.partial_g(x, 0) @ (-x)"
   ]
  },
  {
   "cell_type": "markdown",
   "id": "clinical-driver",
   "metadata": {},
   "source": [
    "$\\alpha = 5$ удовлетворяет нашему условию. Теперь подберем $t$ такое, при котором выполняются:\n",
    "\n",
    "$f(x(t)) < f(x)$\n",
    "\n",
    "$g_i(x(t)) < 0$\n",
    "\n",
    "$x(t) \\geq 0$"
   ]
  },
  {
   "cell_type": "code",
   "execution_count": 12,
   "id": "documented-reviewer",
   "metadata": {},
   "outputs": [
    {
     "data": {
      "text/plain": [
       "array([0.05, 2.3 , 0.8 , 0.8 , 0.05, 1.55, 0.05, 0.05])"
      ]
     },
     "execution_count": 12,
     "metadata": {},
     "output_type": "execute_result"
    }
   ],
   "source": [
    "x_t = x + (0.05) * (1 - x * 5)\n",
    "x_t"
   ]
  },
  {
   "cell_type": "code",
   "execution_count": 13,
   "id": "located-bullet",
   "metadata": {},
   "outputs": [
    {
     "name": "stdout",
     "output_type": "stream",
     "text": [
      "-12.181562499999998\n",
      "-65.96843750000001\n",
      "-31.679296875000006\n",
      "-107.516875\n",
      "-4.52890625\n"
     ]
    }
   ],
   "source": [
    "for i in range(1, 6):\n",
    "    print(solver.g(x_t, i))"
   ]
  },
  {
   "cell_type": "code",
   "execution_count": 14,
   "id": "burning-compression",
   "metadata": {},
   "outputs": [
    {
     "data": {
      "text/plain": [
       "(177.96499999999997, 292.5)"
      ]
     },
     "execution_count": 14,
     "metadata": {},
     "output_type": "execute_result"
    }
   ],
   "source": [
    "solver.g(x_t, 0), solver.g(x, 0)"
   ]
  },
  {
   "cell_type": "markdown",
   "id": "silent-tribute",
   "metadata": {},
   "source": [
    "Таким образом, план $(0.05, 2.3 , 0.8 , 0.8 , 0.05, 1.55, 0.05, 0.05)$ является оптимальным."
   ]
  }
 ],
 "metadata": {
  "kernelspec": {
   "display_name": "Python 3",
   "language": "python",
   "name": "python3"
  },
  "language_info": {
   "codemirror_mode": {
    "name": "ipython",
    "version": 3
   },
   "file_extension": ".py",
   "mimetype": "text/x-python",
   "name": "python",
   "nbconvert_exporter": "python",
   "pygments_lexer": "ipython3",
   "version": "3.6.9"
  }
 },
 "nbformat": 4,
 "nbformat_minor": 5
}
